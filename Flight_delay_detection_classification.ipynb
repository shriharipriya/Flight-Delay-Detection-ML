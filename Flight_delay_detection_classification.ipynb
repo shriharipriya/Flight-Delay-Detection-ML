{
 "cells": [
  {
   "cell_type": "code",
   "execution_count": 23,
   "id": "c7a1afc8",
   "metadata": {},
   "outputs": [],
   "source": [
    "import pandas as pd\n",
    "import os\n",
    "import imblearn\n",
    "from imblearn.under_sampling import RandomUnderSampler\n",
    "from imblearn.over_sampling import RandomOverSampler\n",
    "from imblearn.under_sampling import TomekLinks\n",
    "from collections import Counter\n",
    "from sklearn.model_selection import train_test_split\n",
    "from sklearn.preprocessing import StandardScaler\n",
    "from sklearn.linear_model import LogisticRegression\n",
    "from sklearn.tree import DecisionTreeClassifier\n",
    "from sklearn.ensemble import RandomForestClassifier\n",
    "from sklearn.ensemble import GradientBoostingClassifier\n",
    "from sklearn.ensemble import ExtraTreesClassifier\n",
    "from sklearn.metrics import classification_report"
   ]
  },
  {
   "cell_type": "code",
   "execution_count": 24,
   "id": "3eae3898",
   "metadata": {},
   "outputs": [],
   "source": [
    "os.chdir(\"D://Bright_Academy//ML project//\")"
   ]
  },
  {
   "cell_type": "code",
   "execution_count": 25,
   "id": "bafa9f48",
   "metadata": {},
   "outputs": [],
   "source": [
    "df=pd.read_csv(\"OHEdata.csv\")"
   ]
  },
  {
   "cell_type": "raw",
   "id": "30d59b63",
   "metadata": {},
   "source": [
    "df.info()"
   ]
  },
  {
   "cell_type": "code",
   "execution_count": 27,
   "id": "542cadc0",
   "metadata": {},
   "outputs": [],
   "source": [
    "df.drop(['WindGustKmph','DewPointF','WindChillF','time','ArrTime','CRSDepTime','DepDelayMinutes'],axis=1,inplace=True)"
   ]
  },
  {
   "cell_type": "code",
   "execution_count": 28,
   "id": "53ea3799",
   "metadata": {},
   "outputs": [],
   "source": [
    "df.drop('Unnamed: 0',axis=1,inplace=True)"
   ]
  },
  {
   "cell_type": "code",
   "execution_count": 29,
   "id": "c90a7cc9",
   "metadata": {},
   "outputs": [],
   "source": [
    "X=df.iloc[:,:-1].values\n",
    "y=df['ArrDel15'].values"
   ]
  },
  {
   "cell_type": "raw",
   "id": "3bb39c31",
   "metadata": {},
   "source": [
    "df.to_csv(\"classificationData.csv\")"
   ]
  },
  {
   "cell_type": "code",
   "execution_count": 8,
   "id": "fc447bcf",
   "metadata": {},
   "outputs": [
    {
     "data": {
      "text/plain": [
       "(1851421,)"
      ]
     },
     "execution_count": 8,
     "metadata": {},
     "output_type": "execute_result"
    }
   ],
   "source": [
    "y.shape"
   ]
  },
  {
   "cell_type": "code",
   "execution_count": 30,
   "id": "5270420a",
   "metadata": {},
   "outputs": [],
   "source": [
    "xtrain,xtest,ytrain,ytest=train_test_split(X,y,test_size=0.3,random_state=0,shuffle=True)"
   ]
  },
  {
   "cell_type": "code",
   "execution_count": 19,
   "id": "95a34801",
   "metadata": {},
   "outputs": [
    {
     "data": {
      "image/png": "[encoded data removed]",
      "text/plain": [
       "<Figure size 640x480 with 1 Axes>"
      ]
     },
     "metadata": {},
     "output_type": "display_data"
    }
   ],
   "source": [
    "import matplotlib.pyplot as plt\n",
    "cnt0=len(df[df['ArrDel15']==0])\n",
    "cnt1=len(df[df['ArrDel15']==1])\n",
    "vals=[cnt0,cnt1]\n",
    "labels=['number of class 0 labels','number of class 1 labels']\n",
    "plt.pie(vals,labels=labels)\n",
    "plt.show()"
   ]
  },
  {
   "cell_type": "markdown",
   "id": "b43bae7e",
   "metadata": {},
   "source": [
    "# Logistic Regression(with scaling)"
   ]
  },
  {
   "cell_type": "code",
   "execution_count": 10,
   "id": "ce444ec5",
   "metadata": {},
   "outputs": [],
   "source": [
    "ss=StandardScaler()\n",
    "xtrainscaled=ss.fit_transform(xtrain)\n",
    "xtestscaled=ss.transform(xtest)"
   ]
  },
  {
   "cell_type": "code",
   "execution_count": 21,
   "id": "d43d03c9",
   "metadata": {},
   "outputs": [
    {
     "data": {
      "text/plain": [
       "LogisticRegression()"
      ]
     },
     "execution_count": 21,
     "metadata": {},
     "output_type": "execute_result"
    }
   ],
   "source": [
    "lr=LogisticRegression()\n",
    "lr.fit(xtrainscaled,ytrain)"
   ]
  },
  {
   "cell_type": "code",
   "execution_count": 22,
   "id": "5676d058",
   "metadata": {},
   "outputs": [
    {
     "name": "stdout",
     "output_type": "stream",
     "text": [
      "              precision    recall  f1-score   support\n",
      "\n",
      "         0.0       0.94      0.95      0.94    438831\n",
      "         1.0       0.79      0.75      0.77    116596\n",
      "\n",
      "    accuracy                           0.91    555427\n",
      "   macro avg       0.86      0.85      0.86    555427\n",
      "weighted avg       0.90      0.91      0.91    555427\n",
      "\n"
     ]
    }
   ],
   "source": [
    "ypred=lr.predict(xtestscaled)\n",
    "print(classification_report(ytest,ypred))"
   ]
  },
  {
   "cell_type": "markdown",
   "id": "0fd3337e",
   "metadata": {},
   "source": [
    "Inference: Class imbalance problem \n",
    "\n",
    "Resolving"
   ]
  },
  {
   "cell_type": "markdown",
   "id": "d292149c",
   "metadata": {},
   "source": [
    "# Random undersampling"
   ]
  },
  {
   "cell_type": "code",
   "execution_count": 31,
   "id": "9c5b7ffe",
   "metadata": {},
   "outputs": [
    {
     "name": "stdout",
     "output_type": "stream",
     "text": [
      "original dataset shape: Counter({0.0: 1024534, 1.0: 271460})\n",
      "Resample dataset shape Counter({0.0: 271460, 1.0: 271460})\n"
     ]
    }
   ],
   "source": [
    "rus = RandomUnderSampler(random_state=42, replacement=True)\n",
    "x_rus, y_rus = rus.fit_resample(xtrain, ytrain)\n",
    "\n",
    "print('original dataset shape:', Counter(ytrain))\n",
    "print('Resample dataset shape', Counter(y_rus))"
   ]
  },
  {
   "cell_type": "code",
   "execution_count": 24,
   "id": "cbf614d3",
   "metadata": {},
   "outputs": [
    {
     "name": "stderr",
     "output_type": "stream",
     "text": [
      "C:\\Users\\Harip\\anaconda3\\lib\\site-packages\\sklearn\\linear_model\\_sag.py:352: ConvergenceWarning: The max_iter was reached which means the coef_ did not converge\n",
      "  warnings.warn(\n"
     ]
    },
    {
     "name": "stdout",
     "output_type": "stream",
     "text": [
      "              precision    recall  f1-score   support\n",
      "\n",
      "         0.0       0.94      0.94      0.94    438831\n",
      "         1.0       0.78      0.76      0.77    116596\n",
      "\n",
      "    accuracy                           0.90    555427\n",
      "   macro avg       0.86      0.85      0.85    555427\n",
      "weighted avg       0.90      0.90      0.90    555427\n",
      "\n"
     ]
    }
   ],
   "source": [
    "xtrainscaled=ss.fit_transform(x_rus)\n",
    "xtestscaled=ss.transform(xtest)\n",
    "\n",
    "lr1=LogisticRegression(solver='sag')\n",
    "lr1.fit(xtrainscaled,y_rus)\n",
    "\n",
    "ypred=lr1.predict(xtestscaled)\n",
    "print(classification_report(ytest,ypred))"
   ]
  },
  {
   "cell_type": "markdown",
   "id": "d8471ec5",
   "metadata": {},
   "source": [
    "# Random Oversampling"
   ]
  },
  {
   "cell_type": "code",
   "execution_count": 21,
   "id": "de07231d",
   "metadata": {},
   "outputs": [
    {
     "name": "stdout",
     "output_type": "stream",
     "text": [
      "Original dataset shape Counter({0.0: 1024534, 1.0: 271460})\n",
      "Resample dataset shape Counter({0.0: 1024534, 1.0: 1024534})\n"
     ]
    }
   ],
   "source": [
    "ros = RandomOverSampler(random_state=42)\n",
    "x_ros, y_ros = ros.fit_resample(xtrain, ytrain)\n",
    "print('Original dataset shape', Counter(ytrain))\n",
    "print('Resample dataset shape', Counter(y_ros))"
   ]
  },
  {
   "cell_type": "code",
   "execution_count": 22,
   "id": "da53b4f7",
   "metadata": {},
   "outputs": [
    {
     "name": "stdout",
     "output_type": "stream",
     "text": [
      "              precision    recall  f1-score   support\n",
      "\n",
      "         0.0       0.94      0.94      0.94    438831\n",
      "         1.0       0.78      0.76      0.77    116596\n",
      "\n",
      "    accuracy                           0.90    555427\n",
      "   macro avg       0.86      0.85      0.85    555427\n",
      "weighted avg       0.90      0.90      0.90    555427\n",
      "\n"
     ]
    }
   ],
   "source": [
    "xtrainscaled=ss.fit_transform(x_ros)\n",
    "xtestscaled=ss.transform(xtest)\n",
    "\n",
    "lr2=LogisticRegression()\n",
    "lr2.fit(xtrainscaled,y_ros)\n",
    "\n",
    "ypred=lr2.predict(xtestscaled)\n",
    "print(classification_report(ytest,ypred))"
   ]
  },
  {
   "cell_type": "markdown",
   "id": "e526df12",
   "metadata": {},
   "source": [
    "# Decision Trees(better accuracy than logreg)\n"
   ]
  },
  {
   "cell_type": "code",
   "execution_count": 25,
   "id": "ec2bfdfb",
   "metadata": {},
   "outputs": [
    {
     "data": {
      "text/plain": [
       "DecisionTreeClassifier(criterion='entropy')"
      ]
     },
     "execution_count": 25,
     "metadata": {},
     "output_type": "execute_result"
    }
   ],
   "source": [
    "tree=DecisionTreeClassifier(criterion='entropy')\n",
    "xtrainscaled=ss.fit_transform(x_rus)\n",
    "xtestscaled=ss.transform(xtest)\n",
    "\n",
    "tree.fit(xtrainscaled,y_rus)"
   ]
  },
  {
   "cell_type": "code",
   "execution_count": 26,
   "id": "18d713ea",
   "metadata": {},
   "outputs": [
    {
     "name": "stdout",
     "output_type": "stream",
     "text": [
      "              precision    recall  f1-score   support\n",
      "\n",
      "         0.0       0.94      0.78      0.85    438831\n",
      "         1.0       0.49      0.81      0.61    116596\n",
      "\n",
      "    accuracy                           0.78    555427\n",
      "   macro avg       0.71      0.79      0.73    555427\n",
      "weighted avg       0.84      0.78      0.80    555427\n",
      "\n"
     ]
    }
   ],
   "source": [
    "ypred=tree.predict(xtestscaled)\n",
    "print(classification_report(ytest,ypred))"
   ]
  },
  {
   "cell_type": "markdown",
   "id": "d497ab18",
   "metadata": {},
   "source": [
    "# Random Forest Classifier(better than decision tree)"
   ]
  },
  {
   "cell_type": "code",
   "execution_count": 27,
   "id": "642293a7",
   "metadata": {},
   "outputs": [
    {
     "data": {
      "text/plain": [
       "RandomForestClassifier(n_jobs=-1)"
      ]
     },
     "execution_count": 27,
     "metadata": {},
     "output_type": "execute_result"
    }
   ],
   "source": [
    "xtrainscaled=ss.fit_transform(x_rus)\n",
    "xtestscaled=ss.transform(xtest)\n",
    "rfc=RandomForestClassifier(n_jobs=-1)\n",
    "rfc.fit(xtrainscaled,y_rus)"
   ]
  },
  {
   "cell_type": "code",
   "execution_count": 28,
   "id": "7b65757c",
   "metadata": {},
   "outputs": [
    {
     "name": "stdout",
     "output_type": "stream",
     "text": [
      "              precision    recall  f1-score   support\n",
      "\n",
      "         0.0       0.95      0.89      0.92    438831\n",
      "         1.0       0.67      0.83      0.74    116596\n",
      "\n",
      "    accuracy                           0.88    555427\n",
      "   macro avg       0.81      0.86      0.83    555427\n",
      "weighted avg       0.89      0.88      0.88    555427\n",
      "\n"
     ]
    }
   ],
   "source": [
    "ypred=rfc.predict(xtestscaled)\n",
    "print(classification_report(ytest,ypred))"
   ]
  },
  {
   "cell_type": "markdown",
   "id": "c3bfce40",
   "metadata": {},
   "source": [
    "# XGBoost"
   ]
  },
  {
   "cell_type": "code",
   "execution_count": 32,
   "id": "2d7e936e",
   "metadata": {},
   "outputs": [
    {
     "data": {
      "text/plain": [
       "GradientBoostingClassifier()"
      ]
     },
     "execution_count": 32,
     "metadata": {},
     "output_type": "execute_result"
    }
   ],
   "source": [
    "xtrainscaled=ss.fit_transform(x_rus)\n",
    "xtestscaled=ss.transform(xtest)\n",
    "xgb=GradientBoostingClassifier()\n",
    "xgb.fit(xtrainscaled,y_rus)"
   ]
  },
  {
   "cell_type": "code",
   "execution_count": 33,
   "id": "58b0079c",
   "metadata": {},
   "outputs": [
    {
     "name": "stdout",
     "output_type": "stream",
     "text": [
      "              precision    recall  f1-score   support\n",
      "\n",
      "         0.0       0.94      0.94      0.94    438831\n",
      "         1.0       0.78      0.76      0.77    116596\n",
      "\n",
      "    accuracy                           0.90    555427\n",
      "   macro avg       0.86      0.85      0.85    555427\n",
      "weighted avg       0.90      0.90      0.90    555427\n",
      "\n"
     ]
    }
   ],
   "source": [
    "ypred=xgb.predict(xtestscaled)\n",
    "print(classification_report(ytest,ypred))"
   ]
  },
  {
   "cell_type": "markdown",
   "id": "a50fa8ed",
   "metadata": {},
   "source": [
    "# ExtraTrees Classifier"
   ]
  },
  {
   "cell_type": "code",
   "execution_count": 32,
   "id": "bfaff706",
   "metadata": {},
   "outputs": [],
   "source": [
    "etc=ExtraTreesClassifier(max_depth=100,n_jobs=-1)"
   ]
  },
  {
   "cell_type": "code",
   "execution_count": 33,
   "id": "046311c3",
   "metadata": {},
   "outputs": [
    {
     "data": {
      "text/plain": [
       "ExtraTreesClassifier(max_depth=100, n_jobs=-1)"
      ]
     },
     "execution_count": 33,
     "metadata": {},
     "output_type": "execute_result"
    }
   ],
   "source": [
    "xtrainscaled=ss.fit_transform(x_rus)\n",
    "xtestscaled=ss.transform(xtest)\n",
    "etc.fit(xtrainscaled,y_rus)"
   ]
  },
  {
   "cell_type": "code",
   "execution_count": 34,
   "id": "1e0a742c",
   "metadata": {},
   "outputs": [
    {
     "name": "stdout",
     "output_type": "stream",
     "text": [
      "              precision    recall  f1-score   support\n",
      "\n",
      "         0.0       0.95      0.88      0.91    438831\n",
      "         1.0       0.64      0.83      0.73    116596\n",
      "\n",
      "    accuracy                           0.87    555427\n",
      "   macro avg       0.80      0.86      0.82    555427\n",
      "weighted avg       0.89      0.87      0.87    555427\n",
      "\n"
     ]
    }
   ],
   "source": [
    "ypred=etc.predict(xtestscaled)\n",
    "print(classification_report(ytest,ypred))"
   ]
  },
  {
   "cell_type": "markdown",
   "id": "2d15117c",
   "metadata": {},
   "source": [
    "# Result:"
   ]
  },
  {
   "cell_type": "code",
   "execution_count": 35,
   "id": "8056131c",
   "metadata": {},
   "outputs": [],
   "source": [
    "import pickle \n",
    "pickle.dump(xgb,open('cmodel.pkl','wb'))"
   ]
  },
  {
   "cell_type": "code",
   "execution_count": null,
   "id": "f188987e",
   "metadata": {},
   "outputs": [],
   "source": []
  }
 ],
 "metadata": {
  "kernelspec": {
   "display_name": "Python 3 (ipykernel)",
   "language": "python",
   "name": "python3"
  },
  "language_info": {
   "codemirror_mode": {
    "name": "ipython",
    "version": 3
   },
   "file_extension": ".py",
   "mimetype": "text/x-python",
   "name": "python",
   "nbconvert_exporter": "python",
   "pygments_lexer": "ipython3",
   "version": "3.9.13"
  }
 },
 "nbformat": 4,
 "nbformat_minor": 5
}
