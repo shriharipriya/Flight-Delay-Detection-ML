{
 "cells": [
  {
   "cell_type": "code",
   "execution_count": 1,
   "id": "fb12beb8",
   "metadata": {},
   "outputs": [],
   "source": [
    "import pandas as pd\n",
    "import os\n",
    "import imblearn\n",
    "from imblearn.over_sampling import RandomOverSampler\n",
    "from collections import Counter"
   ]
  },
  {
   "cell_type": "code",
   "execution_count": 2,
   "id": "e3679d75",
   "metadata": {},
   "outputs": [],
   "source": [
    "os.chdir(\"D://Bright_Academy//ML project//\")"
   ]
  },
  {
   "cell_type": "code",
   "execution_count": 3,
   "id": "86cd6cb5",
   "metadata": {},
   "outputs": [],
   "source": [
    "df=pd.read_csv(\"OHEdata.csv\")"
   ]
  },
  {
   "cell_type": "markdown",
   "id": "f5b822c2",
   "metadata": {},
   "source": [
    "# Computing Delay"
   ]
  },
  {
   "cell_type": "code",
   "execution_count": 4,
   "id": "ae8fc4a4",
   "metadata": {},
   "outputs": [],
   "source": [
    "def computeDelay(df):\n",
    "    delay=[]\n",
    "    for i in range(len(df)):\n",
    "        res=df['ArrTime'][i]-df['CRSArrTime'][i]\n",
    "        if (res>=60):\n",
    "            if (res<=100):\n",
    "                res1=(60-(df['CRSArrTime'][i]%100))+(df['ArrTime'][i]%100)\n",
    "                delay.append(res1)\n",
    "            elif (res>100):\n",
    "                flr=int(round(res,-2))//100\n",
    "                res1=(60-(df['CRSArrTime'][i]%100))+60*flr+(df['ArrTime'][i]%100)\n",
    "                delay.append(res1)\n",
    "        else:\n",
    "            delay.append(res)\n",
    "    return delay"
   ]
  },
  {
   "cell_type": "code",
   "execution_count": 5,
   "id": "fe8790ef",
   "metadata": {},
   "outputs": [],
   "source": [
    "df['ArrDelay']=computeDelay(df)"
   ]
  },
  {
   "cell_type": "code",
   "execution_count": 6,
   "id": "0ca8cbb1",
   "metadata": {},
   "outputs": [],
   "source": [
    "df=df[df['ArrDel15']==1]"
   ]
  },
  {
   "cell_type": "code",
   "execution_count": 7,
   "id": "651032ce",
   "metadata": {},
   "outputs": [],
   "source": [
    "df1=df[['ArrTime','CRSArrTime','ArrDelay']]"
   ]
  },
  {
   "cell_type": "code",
   "execution_count": 8,
   "id": "0106ce20",
   "metadata": {},
   "outputs": [],
   "source": [
    "df.drop(['WindGustKmph','DewPointF','WindChillF','time','ArrTime','CRSDepTime','DepDelayMinutes'],axis=1,inplace=True)"
   ]
  },
  {
   "cell_type": "code",
   "execution_count": 9,
   "id": "77033b69",
   "metadata": {},
   "outputs": [],
   "source": [
    "df.drop(\"Unnamed: 0\",axis=1,inplace=True)"
   ]
  },
  {
   "cell_type": "code",
   "execution_count": 10,
   "id": "b2497cd5",
   "metadata": {},
   "outputs": [],
   "source": [
    "df=df.reset_index(drop=True)"
   ]
  },
  {
   "cell_type": "raw",
   "id": "3199e8c5",
   "metadata": {},
   "source": [
    "df"
   ]
  },
  {
   "cell_type": "raw",
   "id": "8c76f527",
   "metadata": {},
   "source": [
    "df.to_csv('regressionData.csv')"
   ]
  },
  {
   "cell_type": "code",
   "execution_count": 11,
   "id": "f7915a18",
   "metadata": {},
   "outputs": [],
   "source": [
    "X=df.drop('ArrDelay',axis=1).values\n",
    "y=df['ArrDelay'].values"
   ]
  },
  {
   "cell_type": "code",
   "execution_count": 12,
   "id": "f1452477",
   "metadata": {},
   "outputs": [],
   "source": [
    "from sklearn.model_selection import train_test_split\n",
    "xtrain,xtest,ytrain,ytest=train_test_split(X,y,test_size=0.3,random_state=0)\n",
    "from sklearn.metrics import mean_absolute_error as mae"
   ]
  },
  {
   "cell_type": "markdown",
   "id": "f54f5422",
   "metadata": {},
   "source": [
    "# Linear Regression"
   ]
  },
  {
   "cell_type": "code",
   "execution_count": 13,
   "id": "2984d890",
   "metadata": {},
   "outputs": [
    {
     "data": {
      "text/plain": [
       "LinearRegression()"
      ]
     },
     "execution_count": 13,
     "metadata": {},
     "output_type": "execute_result"
    }
   ],
   "source": [
    "from sklearn.linear_model import LinearRegression\n",
    "lr=LinearRegression()\n",
    "lr.fit(xtrain,ytrain)\n"
   ]
  },
  {
   "cell_type": "code",
   "execution_count": 14,
   "id": "a3ac4cef",
   "metadata": {},
   "outputs": [],
   "source": [
    "ypred=lr.predict(xtest)\n"
   ]
  },
  {
   "cell_type": "code",
   "execution_count": 15,
   "id": "8c99617c",
   "metadata": {},
   "outputs": [
    {
     "name": "stdout",
     "output_type": "stream",
     "text": [
      "0.1539821167549814\n",
      "343.22217138238193\n"
     ]
    }
   ],
   "source": [
    "from sklearn.metrics import r2_score\n",
    "#print(explained_variance_score(ytest,ypred))\n",
    "print(r2_score(ytest,ypred))\n",
    "print(mae(ytest,ypred))"
   ]
  },
  {
   "cell_type": "markdown",
   "id": "a75949f3",
   "metadata": {},
   "source": [
    "# Extra Trees Regressor"
   ]
  },
  {
   "cell_type": "code",
   "execution_count": 16,
   "id": "d523f324",
   "metadata": {},
   "outputs": [
    {
     "data": {
      "text/plain": [
       "ExtraTreesRegressor(n_jobs=-1)"
      ]
     },
     "execution_count": 16,
     "metadata": {},
     "output_type": "execute_result"
    }
   ],
   "source": [
    "from sklearn.ensemble import ExtraTreesRegressor\n",
    "etr=ExtraTreesRegressor(n_jobs=-1)\n",
    "etr.fit(xtrain,ytrain)"
   ]
  },
  {
   "cell_type": "code",
   "execution_count": 17,
   "id": "5df98cb4",
   "metadata": {},
   "outputs": [],
   "source": [
    "ypred=etr.predict(xtest)"
   ]
  },
  {
   "cell_type": "code",
   "execution_count": 18,
   "id": "7ea4505b",
   "metadata": {},
   "outputs": [
    {
     "name": "stdout",
     "output_type": "stream",
     "text": [
      "0.8087679703926163\n",
      "86.6007879433416\n"
     ]
    }
   ],
   "source": [
    "#print(explained_variance_score(ytest,ypred))\n",
    "print(r2_score(ytest,ypred))\n",
    "print(mae(ytest,ypred))"
   ]
  },
  {
   "cell_type": "markdown",
   "id": "01fefb76",
   "metadata": {},
   "source": [
    "# XGBoost Regressor"
   ]
  },
  {
   "cell_type": "code",
   "execution_count": 19,
   "id": "57ccd4e3",
   "metadata": {},
   "outputs": [
    {
     "data": {
      "text/plain": [
       "GradientBoostingRegressor()"
      ]
     },
     "execution_count": 19,
     "metadata": {},
     "output_type": "execute_result"
    }
   ],
   "source": [
    "from sklearn.ensemble import GradientBoostingRegressor\n",
    "xgr=GradientBoostingRegressor()\n",
    "xgr.fit(xtrain,ytrain)"
   ]
  },
  {
   "cell_type": "code",
   "execution_count": 20,
   "id": "3f7b56b4",
   "metadata": {},
   "outputs": [],
   "source": [
    "ypred=xgr.predict(xtest)"
   ]
  },
  {
   "cell_type": "code",
   "execution_count": 21,
   "id": "956aefde",
   "metadata": {},
   "outputs": [
    {
     "name": "stdout",
     "output_type": "stream",
     "text": [
      "0.7012453461064814\n",
      "140.5374398252958\n"
     ]
    }
   ],
   "source": [
    "#print(explained_variance_score(ytest,ypred))\n",
    "print(r2_score(ytest,ypred))\n",
    "print(mae(ytest,ypred))"
   ]
  },
  {
   "cell_type": "markdown",
   "id": "80ec1a46",
   "metadata": {},
   "source": [
    "# Random forest Regressor"
   ]
  },
  {
   "cell_type": "code",
   "execution_count": 22,
   "id": "07e1f97e",
   "metadata": {},
   "outputs": [
    {
     "data": {
      "text/plain": [
       "RandomForestRegressor(n_jobs=-1)"
      ]
     },
     "execution_count": 22,
     "metadata": {},
     "output_type": "execute_result"
    }
   ],
   "source": [
    "from sklearn.ensemble import RandomForestRegressor\n",
    "rfr=RandomForestRegressor(n_jobs=-1)\n",
    "rfr.fit(xtrain,ytrain)"
   ]
  },
  {
   "cell_type": "code",
   "execution_count": 23,
   "id": "7349cc3f",
   "metadata": {},
   "outputs": [
    {
     "name": "stdout",
     "output_type": "stream",
     "text": [
      "0.7834356482157173\n",
      "96.10456805625263\n"
     ]
    }
   ],
   "source": [
    "ypred=rfr.predict(xtest)\n",
    "print(r2_score(ytest,ypred))\n",
    "print(mae(ytest,ypred))"
   ]
  },
  {
   "cell_type": "markdown",
   "id": "8b4c07d2",
   "metadata": {},
   "source": [
    "# Extra Trees Regressor- best-81%"
   ]
  },
  {
   "cell_type": "code",
   "execution_count": 26,
   "id": "9453668b",
   "metadata": {},
   "outputs": [],
   "source": [
    "import pickle\n",
    "pickle.dump(etr,open('rmodel.pkl','wb'))"
   ]
  },
  {
   "cell_type": "code",
   "execution_count": null,
   "id": "10929bf0",
   "metadata": {},
   "outputs": [],
   "source": []
  }
 ],
 "metadata": {
  "kernelspec": {
   "display_name": "Python 3 (ipykernel)",
   "language": "python",
   "name": "python3"
  },
  "language_info": {
   "codemirror_mode": {
    "name": "ipython",
    "version": 3
   },
   "file_extension": ".py",
   "mimetype": "text/x-python",
   "name": "python",
   "nbconvert_exporter": "python",
   "pygments_lexer": "ipython3",
   "version": "3.9.13"
  }
 },
 "nbformat": 4,
 "nbformat_minor": 5
}
