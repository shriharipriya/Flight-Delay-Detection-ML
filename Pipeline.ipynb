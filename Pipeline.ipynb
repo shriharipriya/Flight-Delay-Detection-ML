{
 "cells": [
  {
   "cell_type": "code",
   "execution_count": 1,
   "id": "9ed8e7f2",
   "metadata": {},
   "outputs": [],
   "source": [
    "import pickle\n",
    "import os\n",
    "import pandas as pd\n",
    "from sklearn.metrics import classification_report,r2_score"
   ]
  },
  {
   "cell_type": "code",
   "execution_count": 2,
   "id": "85bd8ca7",
   "metadata": {},
   "outputs": [],
   "source": [
    "os.chdir(\"D://Bright_Academy//ML project//\")"
   ]
  },
  {
   "cell_type": "code",
   "execution_count": 3,
   "id": "5c758183",
   "metadata": {},
   "outputs": [],
   "source": [
    "cdata=pd.read_csv(\"classificationData.csv\")"
   ]
  },
  {
   "cell_type": "code",
   "execution_count": 4,
   "id": "b6f2ec19",
   "metadata": {},
   "outputs": [],
   "source": [
    "cdata.drop(\"Unnamed: 0\",axis=1,inplace=True)"
   ]
  },
  {
   "cell_type": "code",
   "execution_count": 5,
   "id": "6cf363d9",
   "metadata": {},
   "outputs": [
    {
     "data": {
      "text/html": [
       "<div>\n",
       "<style scoped>\n",
       "    .dataframe tbody tr th:only-of-type {\n",
       "        vertical-align: middle;\n",
       "    }\n",
       "\n",
       "    .dataframe tbody tr th {\n",
       "        vertical-align: top;\n",
       "    }\n",
       "\n",
       "    .dataframe thead th {\n",
       "        text-align: right;\n",
       "    }\n",
       "</style>\n",
       "<table border=\"1\" class=\"dataframe\">\n",
       "  <thead>\n",
       "    <tr style=\"text-align: right;\">\n",
       "      <th></th>\n",
       "      <th>windspeedKmph</th>\n",
       "      <th>winddirDegree</th>\n",
       "      <th>weatherCode</th>\n",
       "      <th>precipMM</th>\n",
       "      <th>visibility</th>\n",
       "      <th>pressure</th>\n",
       "      <th>cloudcover</th>\n",
       "      <th>tempF</th>\n",
       "      <th>humidity</th>\n",
       "      <th>DepTime</th>\n",
       "      <th>...</th>\n",
       "      <th>Dest_JFK</th>\n",
       "      <th>Dest_LAS</th>\n",
       "      <th>Dest_LAX</th>\n",
       "      <th>Dest_MCO</th>\n",
       "      <th>Dest_MIA</th>\n",
       "      <th>Dest_ORD</th>\n",
       "      <th>Dest_PHX</th>\n",
       "      <th>Dest_SEA</th>\n",
       "      <th>Dest_SFO</th>\n",
       "      <th>ArrDel15</th>\n",
       "    </tr>\n",
       "  </thead>\n",
       "  <tbody>\n",
       "    <tr>\n",
       "      <th>0</th>\n",
       "      <td>17.0</td>\n",
       "      <td>318.0</td>\n",
       "      <td>122.0</td>\n",
       "      <td>0.0</td>\n",
       "      <td>10.0</td>\n",
       "      <td>1025.0</td>\n",
       "      <td>100.0</td>\n",
       "      <td>44.0</td>\n",
       "      <td>72.0</td>\n",
       "      <td>1617.0</td>\n",
       "      <td>...</td>\n",
       "      <td>0</td>\n",
       "      <td>0</td>\n",
       "      <td>0</td>\n",
       "      <td>0</td>\n",
       "      <td>0</td>\n",
       "      <td>0</td>\n",
       "      <td>0</td>\n",
       "      <td>0</td>\n",
       "      <td>0</td>\n",
       "      <td>1.0</td>\n",
       "    </tr>\n",
       "    <tr>\n",
       "      <th>1</th>\n",
       "      <td>11.0</td>\n",
       "      <td>318.0</td>\n",
       "      <td>176.0</td>\n",
       "      <td>0.1</td>\n",
       "      <td>10.0</td>\n",
       "      <td>1023.0</td>\n",
       "      <td>100.0</td>\n",
       "      <td>49.0</td>\n",
       "      <td>91.0</td>\n",
       "      <td>2138.0</td>\n",
       "      <td>...</td>\n",
       "      <td>0</td>\n",
       "      <td>0</td>\n",
       "      <td>0</td>\n",
       "      <td>0</td>\n",
       "      <td>0</td>\n",
       "      <td>0</td>\n",
       "      <td>0</td>\n",
       "      <td>0</td>\n",
       "      <td>0</td>\n",
       "      <td>0.0</td>\n",
       "    </tr>\n",
       "    <tr>\n",
       "      <th>2</th>\n",
       "      <td>17.0</td>\n",
       "      <td>318.0</td>\n",
       "      <td>122.0</td>\n",
       "      <td>0.0</td>\n",
       "      <td>10.0</td>\n",
       "      <td>1024.0</td>\n",
       "      <td>100.0</td>\n",
       "      <td>46.0</td>\n",
       "      <td>73.0</td>\n",
       "      <td>1455.0</td>\n",
       "      <td>...</td>\n",
       "      <td>0</td>\n",
       "      <td>0</td>\n",
       "      <td>0</td>\n",
       "      <td>0</td>\n",
       "      <td>0</td>\n",
       "      <td>0</td>\n",
       "      <td>0</td>\n",
       "      <td>0</td>\n",
       "      <td>0</td>\n",
       "      <td>1.0</td>\n",
       "    </tr>\n",
       "    <tr>\n",
       "      <th>3</th>\n",
       "      <td>17.0</td>\n",
       "      <td>318.0</td>\n",
       "      <td>122.0</td>\n",
       "      <td>0.0</td>\n",
       "      <td>10.0</td>\n",
       "      <td>1024.0</td>\n",
       "      <td>100.0</td>\n",
       "      <td>46.0</td>\n",
       "      <td>73.0</td>\n",
       "      <td>1007.0</td>\n",
       "      <td>...</td>\n",
       "      <td>0</td>\n",
       "      <td>0</td>\n",
       "      <td>0</td>\n",
       "      <td>0</td>\n",
       "      <td>0</td>\n",
       "      <td>0</td>\n",
       "      <td>0</td>\n",
       "      <td>0</td>\n",
       "      <td>0</td>\n",
       "      <td>0.0</td>\n",
       "    </tr>\n",
       "    <tr>\n",
       "      <th>4</th>\n",
       "      <td>17.0</td>\n",
       "      <td>317.0</td>\n",
       "      <td>122.0</td>\n",
       "      <td>0.0</td>\n",
       "      <td>10.0</td>\n",
       "      <td>1025.0</td>\n",
       "      <td>100.0</td>\n",
       "      <td>47.0</td>\n",
       "      <td>81.0</td>\n",
       "      <td>911.0</td>\n",
       "      <td>...</td>\n",
       "      <td>0</td>\n",
       "      <td>0</td>\n",
       "      <td>0</td>\n",
       "      <td>0</td>\n",
       "      <td>0</td>\n",
       "      <td>0</td>\n",
       "      <td>0</td>\n",
       "      <td>0</td>\n",
       "      <td>0</td>\n",
       "      <td>0.0</td>\n",
       "    </tr>\n",
       "    <tr>\n",
       "      <th>...</th>\n",
       "      <td>...</td>\n",
       "      <td>...</td>\n",
       "      <td>...</td>\n",
       "      <td>...</td>\n",
       "      <td>...</td>\n",
       "      <td>...</td>\n",
       "      <td>...</td>\n",
       "      <td>...</td>\n",
       "      <td>...</td>\n",
       "      <td>...</td>\n",
       "      <td>...</td>\n",
       "      <td>...</td>\n",
       "      <td>...</td>\n",
       "      <td>...</td>\n",
       "      <td>...</td>\n",
       "      <td>...</td>\n",
       "      <td>...</td>\n",
       "      <td>...</td>\n",
       "      <td>...</td>\n",
       "      <td>...</td>\n",
       "      <td>...</td>\n",
       "    </tr>\n",
       "    <tr>\n",
       "      <th>1851416</th>\n",
       "      <td>2.0</td>\n",
       "      <td>194.0</td>\n",
       "      <td>122.0</td>\n",
       "      <td>0.0</td>\n",
       "      <td>10.0</td>\n",
       "      <td>1020.0</td>\n",
       "      <td>79.0</td>\n",
       "      <td>52.0</td>\n",
       "      <td>97.0</td>\n",
       "      <td>1931.0</td>\n",
       "      <td>...</td>\n",
       "      <td>0</td>\n",
       "      <td>0</td>\n",
       "      <td>0</td>\n",
       "      <td>0</td>\n",
       "      <td>0</td>\n",
       "      <td>0</td>\n",
       "      <td>0</td>\n",
       "      <td>0</td>\n",
       "      <td>1</td>\n",
       "      <td>0.0</td>\n",
       "    </tr>\n",
       "    <tr>\n",
       "      <th>1851417</th>\n",
       "      <td>5.0</td>\n",
       "      <td>320.0</td>\n",
       "      <td>119.0</td>\n",
       "      <td>0.0</td>\n",
       "      <td>10.0</td>\n",
       "      <td>1018.0</td>\n",
       "      <td>73.0</td>\n",
       "      <td>54.0</td>\n",
       "      <td>89.0</td>\n",
       "      <td>1213.0</td>\n",
       "      <td>...</td>\n",
       "      <td>0</td>\n",
       "      <td>0</td>\n",
       "      <td>0</td>\n",
       "      <td>0</td>\n",
       "      <td>0</td>\n",
       "      <td>0</td>\n",
       "      <td>0</td>\n",
       "      <td>0</td>\n",
       "      <td>1</td>\n",
       "      <td>0.0</td>\n",
       "    </tr>\n",
       "    <tr>\n",
       "      <th>1851418</th>\n",
       "      <td>5.0</td>\n",
       "      <td>142.0</td>\n",
       "      <td>116.0</td>\n",
       "      <td>0.0</td>\n",
       "      <td>10.0</td>\n",
       "      <td>1017.0</td>\n",
       "      <td>83.0</td>\n",
       "      <td>51.0</td>\n",
       "      <td>86.0</td>\n",
       "      <td>533.0</td>\n",
       "      <td>...</td>\n",
       "      <td>0</td>\n",
       "      <td>0</td>\n",
       "      <td>0</td>\n",
       "      <td>0</td>\n",
       "      <td>0</td>\n",
       "      <td>0</td>\n",
       "      <td>0</td>\n",
       "      <td>0</td>\n",
       "      <td>1</td>\n",
       "      <td>0.0</td>\n",
       "    </tr>\n",
       "    <tr>\n",
       "      <th>1851419</th>\n",
       "      <td>4.0</td>\n",
       "      <td>327.0</td>\n",
       "      <td>119.0</td>\n",
       "      <td>0.0</td>\n",
       "      <td>10.0</td>\n",
       "      <td>1018.0</td>\n",
       "      <td>55.0</td>\n",
       "      <td>54.0</td>\n",
       "      <td>85.0</td>\n",
       "      <td>850.0</td>\n",
       "      <td>...</td>\n",
       "      <td>0</td>\n",
       "      <td>0</td>\n",
       "      <td>0</td>\n",
       "      <td>0</td>\n",
       "      <td>0</td>\n",
       "      <td>0</td>\n",
       "      <td>0</td>\n",
       "      <td>0</td>\n",
       "      <td>1</td>\n",
       "      <td>0.0</td>\n",
       "    </tr>\n",
       "    <tr>\n",
       "      <th>1851420</th>\n",
       "      <td>4.0</td>\n",
       "      <td>324.0</td>\n",
       "      <td>119.0</td>\n",
       "      <td>0.0</td>\n",
       "      <td>10.0</td>\n",
       "      <td>1018.0</td>\n",
       "      <td>64.0</td>\n",
       "      <td>54.0</td>\n",
       "      <td>87.0</td>\n",
       "      <td>1107.0</td>\n",
       "      <td>...</td>\n",
       "      <td>0</td>\n",
       "      <td>0</td>\n",
       "      <td>0</td>\n",
       "      <td>0</td>\n",
       "      <td>0</td>\n",
       "      <td>0</td>\n",
       "      <td>0</td>\n",
       "      <td>0</td>\n",
       "      <td>1</td>\n",
       "      <td>0.0</td>\n",
       "    </tr>\n",
       "  </tbody>\n",
       "</table>\n",
       "<p>1851421 rows × 86 columns</p>\n",
       "</div>"
      ],
      "text/plain": [
       "         windspeedKmph  winddirDegree  weatherCode  precipMM  visibility  \\\n",
       "0                 17.0          318.0        122.0       0.0        10.0   \n",
       "1                 11.0          318.0        176.0       0.1        10.0   \n",
       "2                 17.0          318.0        122.0       0.0        10.0   \n",
       "3                 17.0          318.0        122.0       0.0        10.0   \n",
       "4                 17.0          317.0        122.0       0.0        10.0   \n",
       "...                ...            ...          ...       ...         ...   \n",
       "1851416            2.0          194.0        122.0       0.0        10.0   \n",
       "1851417            5.0          320.0        119.0       0.0        10.0   \n",
       "1851418            5.0          142.0        116.0       0.0        10.0   \n",
       "1851419            4.0          327.0        119.0       0.0        10.0   \n",
       "1851420            4.0          324.0        119.0       0.0        10.0   \n",
       "\n",
       "         pressure  cloudcover  tempF  humidity  DepTime  ...  Dest_JFK  \\\n",
       "0          1025.0       100.0   44.0      72.0   1617.0  ...         0   \n",
       "1          1023.0       100.0   49.0      91.0   2138.0  ...         0   \n",
       "2          1024.0       100.0   46.0      73.0   1455.0  ...         0   \n",
       "3          1024.0       100.0   46.0      73.0   1007.0  ...         0   \n",
       "4          1025.0       100.0   47.0      81.0    911.0  ...         0   \n",
       "...           ...         ...    ...       ...      ...  ...       ...   \n",
       "1851416    1020.0        79.0   52.0      97.0   1931.0  ...         0   \n",
       "1851417    1018.0        73.0   54.0      89.0   1213.0  ...         0   \n",
       "1851418    1017.0        83.0   51.0      86.0    533.0  ...         0   \n",
       "1851419    1018.0        55.0   54.0      85.0    850.0  ...         0   \n",
       "1851420    1018.0        64.0   54.0      87.0   1107.0  ...         0   \n",
       "\n",
       "         Dest_LAS  Dest_LAX  Dest_MCO  Dest_MIA  Dest_ORD  Dest_PHX  Dest_SEA  \\\n",
       "0               0         0         0         0         0         0         0   \n",
       "1               0         0         0         0         0         0         0   \n",
       "2               0         0         0         0         0         0         0   \n",
       "3               0         0         0         0         0         0         0   \n",
       "4               0         0         0         0         0         0         0   \n",
       "...           ...       ...       ...       ...       ...       ...       ...   \n",
       "1851416         0         0         0         0         0         0         0   \n",
       "1851417         0         0         0         0         0         0         0   \n",
       "1851418         0         0         0         0         0         0         0   \n",
       "1851419         0         0         0         0         0         0         0   \n",
       "1851420         0         0         0         0         0         0         0   \n",
       "\n",
       "         Dest_SFO  ArrDel15  \n",
       "0               0       1.0  \n",
       "1               0       0.0  \n",
       "2               0       1.0  \n",
       "3               0       0.0  \n",
       "4               0       0.0  \n",
       "...           ...       ...  \n",
       "1851416         1       0.0  \n",
       "1851417         1       0.0  \n",
       "1851418         1       0.0  \n",
       "1851419         1       0.0  \n",
       "1851420         1       0.0  \n",
       "\n",
       "[1851421 rows x 86 columns]"
      ]
     },
     "execution_count": 5,
     "metadata": {},
     "output_type": "execute_result"
    }
   ],
   "source": [
    "cdata"
   ]
  },
  {
   "cell_type": "code",
   "execution_count": 6,
   "id": "16138de0",
   "metadata": {},
   "outputs": [],
   "source": [
    "classifier=pickle.load(open('cmodel.pkl','rb'))"
   ]
  },
  {
   "cell_type": "code",
   "execution_count": 7,
   "id": "8031bee5",
   "metadata": {},
   "outputs": [],
   "source": [
    "ArrDel=cdata['ArrDel15'].values\n",
    "ArrDelpred=classifier.predict(cdata.iloc[:,:-1].values)"
   ]
  },
  {
   "cell_type": "code",
   "execution_count": 8,
   "id": "94f7219f",
   "metadata": {},
   "outputs": [
    {
     "name": "stdout",
     "output_type": "stream",
     "text": [
      "              precision    recall  f1-score   support\n",
      "\n",
      "         0.0       0.94      0.85      0.89   1463365\n",
      "         1.0       0.59      0.80      0.68    388056\n",
      "\n",
      "    accuracy                           0.84   1851421\n",
      "   macro avg       0.76      0.83      0.79   1851421\n",
      "weighted avg       0.87      0.84      0.85   1851421\n",
      "\n"
     ]
    }
   ],
   "source": [
    "print(classification_report(ArrDel,ArrDelpred))"
   ]
  },
  {
   "cell_type": "code",
   "execution_count": 9,
   "id": "689864fa",
   "metadata": {},
   "outputs": [],
   "source": [
    "regressor=pickle.load(open('rmodel.pkl','rb'))"
   ]
  },
  {
   "cell_type": "code",
   "execution_count": 10,
   "id": "c4b774b7",
   "metadata": {},
   "outputs": [],
   "source": [
    "cdata['ArrDelpred']=ArrDelpred"
   ]
  },
  {
   "cell_type": "code",
   "execution_count": 11,
   "id": "dc06195e",
   "metadata": {},
   "outputs": [],
   "source": [
    "df=pd.read_csv('OHEdata.csv')\n",
    "cdata['ArrTime']=df['ArrTime']"
   ]
  },
  {
   "cell_type": "code",
   "execution_count": 12,
   "id": "5c5ccffb",
   "metadata": {},
   "outputs": [],
   "source": [
    "def computeDelay(df):\n",
    "    delay=[]\n",
    "    for i in range(len(df)):\n",
    "        res=df['ArrTime'][i]-df['CRSArrTime'][i]\n",
    "        if (res>=60):\n",
    "            if (res<=100):\n",
    "                res1=(60-(df['CRSArrTime'][i]%100))+(df['ArrTime'][i]%100)\n",
    "                delay.append(res1)\n",
    "            elif (res>100):\n",
    "                flr=int(round(res,-2))//100\n",
    "                res1=(60-(df['CRSArrTime'][i]%100))+60*flr+(df['ArrTime'][i]%100)\n",
    "                delay.append(res1)\n",
    "        else:\n",
    "            delay.append(res)\n",
    "    return delay"
   ]
  },
  {
   "cell_type": "code",
   "execution_count": 13,
   "id": "1f8e2818",
   "metadata": {},
   "outputs": [],
   "source": [
    "rdata=cdata[cdata['ArrDelpred']==1]"
   ]
  },
  {
   "cell_type": "code",
   "execution_count": 14,
   "id": "15a0f8cd",
   "metadata": {},
   "outputs": [],
   "source": [
    "rdata=rdata.reset_index(drop=True)"
   ]
  },
  {
   "cell_type": "code",
   "execution_count": 15,
   "id": "a41120f6",
   "metadata": {},
   "outputs": [],
   "source": [
    "rdata['Delay']=computeDelay(rdata)"
   ]
  },
  {
   "cell_type": "code",
   "execution_count": 16,
   "id": "d52804ff",
   "metadata": {},
   "outputs": [],
   "source": [
    "rdata1=rdata.drop(['ArrDel15','ArrTime'],axis=1)"
   ]
  },
  {
   "cell_type": "code",
   "execution_count": 17,
   "id": "756b3b7c",
   "metadata": {},
   "outputs": [],
   "source": [
    "Delaypred=regressor.predict(rdata1.iloc[:,:-1].values)"
   ]
  },
  {
   "cell_type": "code",
   "execution_count": 18,
   "id": "49480687",
   "metadata": {},
   "outputs": [
    {
     "name": "stdout",
     "output_type": "stream",
     "text": [
      "0.7585212577377172\n"
     ]
    }
   ],
   "source": [
    "print(r2_score(rdata['Delay'].values,Delaypred))"
   ]
  },
  {
   "cell_type": "markdown",
   "id": "6a8634d4",
   "metadata": {},
   "source": [
    "# Regression analysis"
   ]
  },
  {
   "cell_type": "code",
   "execution_count": 19,
   "id": "670d888b",
   "metadata": {},
   "outputs": [
    {
     "data": {
      "text/plain": [
       "count    529418.000000\n",
       "mean        -72.984812\n",
       "std         514.046634\n",
       "min       -2384.000000\n",
       "25%          -3.000000\n",
       "50%          21.000000\n",
       "75%          53.000000\n",
       "max        1558.000000\n",
       "Name: Delay, dtype: float64"
      ]
     },
     "execution_count": 19,
     "metadata": {},
     "output_type": "execute_result"
    }
   ],
   "source": [
    "rdata1['Delay'].describe()"
   ]
  },
  {
   "cell_type": "code",
   "execution_count": 20,
   "id": "f7ba9de4",
   "metadata": {},
   "outputs": [],
   "source": [
    "from sklearn.metrics import mean_absolute_error"
   ]
  },
  {
   "cell_type": "markdown",
   "id": "241eef70",
   "metadata": {},
   "source": [
    "Range1:[15,100]"
   ]
  },
  {
   "cell_type": "code",
   "execution_count": 21,
   "id": "515dc2c4",
   "metadata": {},
   "outputs": [],
   "source": [
    "range1=rdata1[(rdata1['Delay']>=15) & (rdata1['Delay']<100)]"
   ]
  },
  {
   "cell_type": "code",
   "execution_count": 22,
   "id": "f64a4673",
   "metadata": {},
   "outputs": [],
   "source": [
    "r2scores=[]\n",
    "maes=[]\n",
    "range1pred=regressor.predict(range1.iloc[:,:-1].values)\n",
    "maes.append(mean_absolute_error(range1['Delay'].values,range1pred))\n",
    "r2scores.append(r2_score(range1['Delay'].values,range1pred))"
   ]
  },
  {
   "cell_type": "markdown",
   "id": "6cc31f37",
   "metadata": {},
   "source": [
    "Range2:[100,200]"
   ]
  },
  {
   "cell_type": "code",
   "execution_count": 23,
   "id": "7750ebb1",
   "metadata": {},
   "outputs": [],
   "source": [
    "range2=rdata1[(rdata1['Delay']>=100) & (rdata1['Delay']<200)]\n",
    "range2pred=regressor.predict(range2.iloc[:,:-1].values)\n",
    "maes.append(mean_absolute_error(range2['Delay'].values,range2pred))\n",
    "r2scores.append(r2_score(range2['Delay'].values,range2pred))"
   ]
  },
  {
   "cell_type": "markdown",
   "id": "535b0c36",
   "metadata": {},
   "source": [
    "Range3:[200,500]"
   ]
  },
  {
   "cell_type": "code",
   "execution_count": 24,
   "id": "c247fbe4",
   "metadata": {},
   "outputs": [],
   "source": [
    "range3=rdata1[(rdata1['Delay']>=200) & (rdata1['Delay']<500)]\n",
    "range3pred=regressor.predict(range3.iloc[:,:-1].values)\n",
    "maes.append(mean_absolute_error(range3['Delay'].values,range3pred))\n",
    "r2scores.append(r2_score(range3['Delay'].values,range3pred))"
   ]
  },
  {
   "cell_type": "markdown",
   "id": "5cd63977",
   "metadata": {},
   "source": [
    "Range4:[500,1000]"
   ]
  },
  {
   "cell_type": "code",
   "execution_count": 25,
   "id": "c903c848",
   "metadata": {},
   "outputs": [],
   "source": [
    "range4=rdata1[(rdata1['Delay']>=500) & (rdata1['Delay']<1000)]\n",
    "range4pred=regressor.predict(range4.iloc[:,:-1].values)\n",
    "maes.append(mean_absolute_error(range4['Delay'].values,range4pred))\n",
    "r2scores.append(r2_score(range4['Delay'].values,range4pred))"
   ]
  },
  {
   "cell_type": "markdown",
   "id": "1ad2b1b1",
   "metadata": {},
   "source": [
    "Range5:[1000,2000]"
   ]
  },
  {
   "cell_type": "code",
   "execution_count": 26,
   "id": "7c104e42",
   "metadata": {},
   "outputs": [],
   "source": [
    "range5=rdata1[(rdata1['Delay']>=1000) & (rdata1['Delay']<2000)]\n",
    "range5pred=regressor.predict(range5.iloc[:,:-1].values)\n",
    "maes.append(mean_absolute_error(range5['Delay'].values,range5pred))\n",
    "r2scores.append(r2_score(range5['Delay'].values,range5pred))"
   ]
  },
  {
   "cell_type": "code",
   "execution_count": 27,
   "id": "5f47bb32",
   "metadata": {},
   "outputs": [
    {
     "data": {
      "text/plain": [
       "[18.859764776776903,\n",
       " 21.783713396129748,\n",
       " 29.931543104845243,\n",
       " 63.12605222734255,\n",
       " 1426.6848657187993]"
      ]
     },
     "execution_count": 27,
     "metadata": {},
     "output_type": "execute_result"
    }
   ],
   "source": [
    "maes"
   ]
  },
  {
   "cell_type": "code",
   "execution_count": 28,
   "id": "8d480840",
   "metadata": {},
   "outputs": [
    {
     "data": {
      "text/plain": [
       "[-73.50953105774796,\n",
       " -18.38184445603368,\n",
       " -3.175497681494898,\n",
       " -1.2751461943385816,\n",
       " -502.4814058789247]"
      ]
     },
     "execution_count": 28,
     "metadata": {},
     "output_type": "execute_result"
    }
   ],
   "source": [
    "r2scores"
   ]
  },
  {
   "cell_type": "code",
   "execution_count": 29,
   "id": "9c17ed64",
   "metadata": {},
   "outputs": [
    {
     "data": {
      "text/plain": [
       "[Text(0.5, 25.722222222222214, 'range'),\n",
       " Text(510.3244949494949, 0.5, 'R2 score value')]"
      ]
     },
     "execution_count": 29,
     "metadata": {},
     "output_type": "execute_result"
    },
    {
     "data": {
      "image/png": "[encoded data removed]",
      "text/plain": [
       "<Figure size 1000x500 with 2 Axes>"
      ]
     },
     "metadata": {},
     "output_type": "display_data"
    }
   ],
   "source": [
    "import matplotlib.pyplot as plt\n",
    "\n",
    "fig,(ax1,ax2)=plt.subplots(1,2,figsize=(10,5))\n",
    "fig.tight_layout(pad=6)\n",
    "vals=['15-100','100-200','200-500','500-1000','1000-2000']\n",
    "\n",
    "ax1.plot(vals,maes)\n",
    "ax1.set_title(\"Mean Absolute Error\")\n",
    "ax1.set(xlabel=\"range\", ylabel=\"MAE value\")\n",
    "\n",
    "ax2.plot(vals,r2scores)\n",
    "ax2.set_title(\"R2 score\")\n",
    "ax2.set(xlabel=\"range\",ylabel=\"R2 score value\")\n"
   ]
  },
  {
   "cell_type": "code",
   "execution_count": 30,
   "id": "32468a1a",
   "metadata": {},
   "outputs": [
    {
     "data": {
      "text/plain": [
       "Text(0.5, 1.0, 'Number of samples belonging to each range bucket')"
      ]
     },
     "execution_count": 30,
     "metadata": {},
     "output_type": "execute_result"
    },
    {
     "data": {
      "image/png": "[encoded data removed]",
      "text/plain": [
       "<Figure size 640x480 with 1 Axes>"
      ]
     },
     "metadata": {},
     "output_type": "display_data"
    }
   ],
   "source": [
    "dct={'15-100':len(range1),'100-200':len(range2),'200-500':len(range3),'500-1000':len(range4),'1000-2000':len(range5)}\n",
    "bins=dct.keys()\n",
    "counts=dct.values()\n",
    "plt.bar(bins,counts,color='purple')\n",
    "plt.xlabel(\"Buckets\")\n",
    "plt.ylabel(\"No. of samples\")\n",
    "plt.title(\"Number of samples belonging to each range bucket\")"
   ]
  },
  {
   "cell_type": "code",
   "execution_count": 31,
   "id": "42656469",
   "metadata": {},
   "outputs": [
    {
     "name": "stdout",
     "output_type": "stream",
     "text": [
      "dict_values([192498, 76119, 24684, 651, 633])\n"
     ]
    }
   ],
   "source": [
    "print(counts)"
   ]
  },
  {
   "cell_type": "code",
   "execution_count": 33,
   "id": "32c18a53",
   "metadata": {},
   "outputs": [
    {
     "data": {
      "text/html": [
       "<div>\n",
       "<style scoped>\n",
       "    .dataframe tbody tr th:only-of-type {\n",
       "        vertical-align: middle;\n",
       "    }\n",
       "\n",
       "    .dataframe tbody tr th {\n",
       "        vertical-align: top;\n",
       "    }\n",
       "\n",
       "    .dataframe thead th {\n",
       "        text-align: right;\n",
       "    }\n",
       "</style>\n",
       "<table border=\"1\" class=\"dataframe\">\n",
       "  <thead>\n",
       "    <tr style=\"text-align: right;\">\n",
       "      <th></th>\n",
       "      <th>Interval Range</th>\n",
       "      <th>MAE</th>\n",
       "    </tr>\n",
       "  </thead>\n",
       "  <tbody>\n",
       "    <tr>\n",
       "      <th>0</th>\n",
       "      <td>15-100</td>\n",
       "      <td>18.859765</td>\n",
       "    </tr>\n",
       "    <tr>\n",
       "      <th>1</th>\n",
       "      <td>100-200</td>\n",
       "      <td>21.783713</td>\n",
       "    </tr>\n",
       "    <tr>\n",
       "      <th>2</th>\n",
       "      <td>200-500</td>\n",
       "      <td>29.931543</td>\n",
       "    </tr>\n",
       "    <tr>\n",
       "      <th>3</th>\n",
       "      <td>500-1000</td>\n",
       "      <td>63.126052</td>\n",
       "    </tr>\n",
       "    <tr>\n",
       "      <th>4</th>\n",
       "      <td>1000-2000</td>\n",
       "      <td>1426.684866</td>\n",
       "    </tr>\n",
       "  </tbody>\n",
       "</table>\n",
       "</div>"
      ],
      "text/plain": [
       "  Interval Range          MAE\n",
       "0         15-100    18.859765\n",
       "1        100-200    21.783713\n",
       "2        200-500    29.931543\n",
       "3       500-1000    63.126052\n",
       "4      1000-2000  1426.684866"
      ]
     },
     "execution_count": 33,
     "metadata": {},
     "output_type": "execute_result"
    }
   ],
   "source": [
    "res=pd.DataFrame()\n",
    "res['Interval Range']=vals\n",
    "res['MAE']=maes\n",
    "res"
   ]
  },
  {
   "cell_type": "code",
   "execution_count": null,
   "id": "827ff381",
   "metadata": {},
   "outputs": [],
   "source": []
  }
 ],
 "metadata": {
  "kernelspec": {
   "display_name": "Python 3 (ipykernel)",
   "language": "python",
   "name": "python3"
  },
  "language_info": {
   "codemirror_mode": {
    "name": "ipython",
    "version": 3
   },
   "file_extension": ".py",
   "mimetype": "text/x-python",
   "name": "python",
   "nbconvert_exporter": "python",
   "pygments_lexer": "ipython3",
   "version": "3.9.13"
  }
 },
 "nbformat": 4,
 "nbformat_minor": 5
}
