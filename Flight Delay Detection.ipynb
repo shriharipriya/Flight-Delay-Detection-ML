{
 "cells": [
  {
   "cell_type": "markdown",
   "id": "c81c7c7d",
   "metadata": {},
   "source": [
    "#  Pre-processing"
   ]
  },
  {
   "cell_type": "code",
   "execution_count": 108,
   "id": "515f9fb1",
   "metadata": {},
   "outputs": [],
   "source": [
    "import os\n",
    "import pandas as pd\n",
    "import json\n",
    "import regex as re"
   ]
  },
  {
   "cell_type": "raw",
   "id": "ae3f705f",
   "metadata": {},
   "source": [
    "os.chdir(\"D:/Bright_Academy/ML project/\")"
   ]
  },
  {
   "cell_type": "raw",
   "id": "21c9c97c",
   "metadata": {},
   "source": [
    "os.chdir(\"weather/\")"
   ]
  },
  {
   "cell_type": "raw",
   "id": "f0630772",
   "metadata": {},
   "source": [
    "pattern=r'^(?!201[67])'#filename to not start with either 2016 or 2017\n",
    "for i in os.listdir():\n",
    "    for j in os.listdir(i):\n",
    "        if re.match(pattern,j):\n",
    "            os.remove(os.path.join(i,j))"
   ]
  },
  {
   "cell_type": "raw",
   "id": "4d5e221d",
   "metadata": {},
   "source": [
    "os.getcwd()"
   ]
  },
  {
   "cell_type": "raw",
   "id": "6e86faa7",
   "metadata": {},
   "source": [
    "os.chdir(\"ATL/\")"
   ]
  },
  {
   "cell_type": "markdown",
   "id": "82c22559",
   "metadata": {},
   "source": [
    "analyse contents of the JSON file"
   ]
  },
  {
   "cell_type": "raw",
   "id": "d0b2bcc1",
   "metadata": {},
   "source": [
    "f=open(\"2016-1.json\")"
   ]
  },
  {
   "cell_type": "raw",
   "id": "fa472790",
   "metadata": {},
   "source": [
    "f=json.load(f)"
   ]
  },
  {
   "cell_type": "raw",
   "id": "a89d24ae",
   "metadata": {},
   "source": [
    "f=f['data']"
   ]
  },
  {
   "cell_type": "raw",
   "id": "80c5eebc",
   "metadata": {},
   "source": [
    "f['request'][0]['query'][:3]"
   ]
  },
  {
   "cell_type": "raw",
   "id": "66ca4760",
   "metadata": {},
   "source": [
    "for i in f['weather']:\n",
    "    print(i)"
   ]
  },
  {
   "cell_type": "raw",
   "id": "1d6baf70",
   "metadata": {},
   "source": [
    "f['weather'][0]['date']"
   ]
  },
  {
   "cell_type": "raw",
   "id": "38a7d8dc",
   "metadata": {},
   "source": [
    "print(f['weather'][0]['hourly'][23])"
   ]
  },
  {
   "cell_type": "raw",
   "id": "5eace7cd",
   "metadata": {},
   "source": [
    "time=[f['weather'][0]['hourly'][i]['time'] for i in range(24)]"
   ]
  },
  {
   "cell_type": "markdown",
   "id": "c8439cfa",
   "metadata": {},
   "source": [
    "convert json to dataframe-"
   ]
  },
  {
   "cell_type": "markdown",
   "id": "51f8f617",
   "metadata": {},
   "source": [
    "Function to optimize"
   ]
  },
  {
   "cell_type": "code",
   "execution_count": 2,
   "id": "91db5c93",
   "metadata": {},
   "outputs": [],
   "source": [
    "os.chdir(\"D:\\\\Bright_Academy\\\\ML project\\\\weather\\\\\")"
   ]
  },
  {
   "cell_type": "code",
   "execution_count": 3,
   "id": "d0dc1f7d",
   "metadata": {},
   "outputs": [],
   "source": [
    "def create(df,f,k,ndays,nrows):\n",
    "    windspeedKmph=[f['weather'][i]['hourly'][j]['windspeedKmph'] for i in range(ndays) for j in range(24)]\n",
    "    winddirDegree=[f['weather'][i]['hourly'][j]['winddirDegree'] for i in range(ndays) for j in range(24)]\n",
    "    weatherCode=[f['weather'][i]['hourly'][j]['weatherCode'] for i in range(ndays) for j in range(24)]\n",
    "    precipMM=[f['weather'][i]['hourly'][j]['precipMM'] for i in range(ndays) for j in range(24)]\n",
    "    visibility=[f['weather'][i]['hourly'][j]['visibility'] for i in range(ndays) for j in range(24)]\n",
    "    pressure=[f['weather'][i]['hourly'][j]['pressure'] for i in range(ndays) for j in range(24)]\n",
    "    cloudcover=[f['weather'][i]['hourly'][j]['cloudcover'] for i in range(ndays) for j in range(24)]\n",
    "    DewPointF=[f['weather'][i]['hourly'][j]['DewPointF'] for i in range(ndays) for j in range(24)]\n",
    "    WindGustKmph=[f['weather'][i]['hourly'][j]['WindGustKmph'] for i in range(ndays) for j in range(24)]\n",
    "    tempF=[f['weather'][i]['hourly'][j]['tempF'] for i in range(ndays) for j in range(24)]\n",
    "    WindChillF=[f['weather'][i]['hourly'][j]['WindChillF'] for i in range(ndays) for j in range(24)]\n",
    "    humidity=[f['weather'][i]['hourly'][j]['humidity'] for i in range(ndays) for j in range(24)]\n",
    "    date=[f['weather'][i]['date'] for i in range(ndays) for j in range(1,25)]\n",
    "    time=[f['weather'][i]['hourly'][j]['time'] for i in range(ndays) for j in range(24)]\n",
    "    airport=[k for i in range(nrows)]\n",
    "    dfnew=pd.DataFrame()\n",
    "    dfnew['windspeedKmph']=windspeedKmph\n",
    "    dfnew['winddirDegree']=winddirDegree\n",
    "    dfnew['weatherCode']=weatherCode\n",
    "    dfnew['precipMM']=precipMM\n",
    "    dfnew['visibility']=visibility\n",
    "    dfnew['pressure']=pressure\n",
    "    dfnew['cloudcover']=cloudcover\n",
    "    dfnew['DewPointF']=DewPointF\n",
    "    dfnew['WindGustKmph']=WindGustKmph\n",
    "    dfnew['tempF']=tempF\n",
    "    dfnew['WindChillF']=WindChillF\n",
    "    dfnew['humidity']=humidity\n",
    "    dfnew['date']=date\n",
    "    dfnew['time']=time\n",
    "    dfnew['airport']=airport\n",
    "    df=pd.concat([df,dfnew])\n",
    "    return df"
   ]
  },
  {
   "cell_type": "markdown",
   "id": "903f7d81",
   "metadata": {},
   "source": [
    "January"
   ]
  },
  {
   "cell_type": "code",
   "execution_count": 4,
   "id": "c61f9ffa",
   "metadata": {},
   "outputs": [],
   "source": [
    "dfjan16=pd.DataFrame()\n",
    "for k in os.listdir():\n",
    "    f=open(os.path.join(k,\"2016-1.json\"))\n",
    "    f=json.load(f)\n",
    "    f=f['data']\n",
    "    dfjan16=create(dfjan16,f,k,31,744)"
   ]
  },
  {
   "cell_type": "markdown",
   "id": "b0b94404",
   "metadata": {},
   "source": [
    "February"
   ]
  },
  {
   "cell_type": "code",
   "execution_count": 5,
   "id": "e6a27206",
   "metadata": {},
   "outputs": [],
   "source": [
    "dffeb16=pd.DataFrame()\n",
    "for k in os.listdir():\n",
    "    f=open(os.path.join(k,\"2016-2.json\"))\n",
    "    f=json.load(f)\n",
    "    f=f['data']\n",
    "    dffeb16=create(dffeb16,f,k,29,696)"
   ]
  },
  {
   "cell_type": "markdown",
   "id": "6267d53d",
   "metadata": {},
   "source": [
    "March"
   ]
  },
  {
   "cell_type": "code",
   "execution_count": 6,
   "id": "db60c3c7",
   "metadata": {},
   "outputs": [],
   "source": [
    "dfmar16=pd.DataFrame()\n",
    "for k in os.listdir():\n",
    "    f=open(os.path.join(k,\"2016-3.json\"))\n",
    "    f=json.load(f)\n",
    "    f=f['data']\n",
    "    dfmar16=create(dfmar16,f,k,31,744)"
   ]
  },
  {
   "cell_type": "markdown",
   "id": "83021fa4",
   "metadata": {},
   "source": [
    "April"
   ]
  },
  {
   "cell_type": "code",
   "execution_count": 7,
   "id": "8607ca08",
   "metadata": {},
   "outputs": [],
   "source": [
    "dfapr16=pd.DataFrame()\n",
    "for k in os.listdir():\n",
    "    f=open(os.path.join(k,\"2016-4.json\"))\n",
    "    f=json.load(f)\n",
    "    f=f['data']\n",
    "    dfapr16=create(dfapr16,f,k,30,720)"
   ]
  },
  {
   "cell_type": "markdown",
   "id": "e44e9ff3",
   "metadata": {},
   "source": [
    "May\n",
    "\n"
   ]
  },
  {
   "cell_type": "code",
   "execution_count": 8,
   "id": "40ee647b",
   "metadata": {},
   "outputs": [],
   "source": [
    "dfmay16=pd.DataFrame()\n",
    "for k in os.listdir():\n",
    "    f=open(os.path.join(k,\"2016-5.json\"))\n",
    "    f=json.load(f)\n",
    "    f=f['data']\n",
    "    dfmay16=create(dfmay16,f,k,31,744)"
   ]
  },
  {
   "cell_type": "markdown",
   "id": "7030281d",
   "metadata": {},
   "source": [
    "June"
   ]
  },
  {
   "cell_type": "code",
   "execution_count": 9,
   "id": "98ec1627",
   "metadata": {},
   "outputs": [],
   "source": [
    "dfjun16=pd.DataFrame()\n",
    "for k in os.listdir():\n",
    "    f=open(os.path.join(k,\"2016-6.json\"))\n",
    "    f=json.load(f)\n",
    "    f=f['data']\n",
    "    dfjun16=create(dfjun16,f,k,30,720)"
   ]
  },
  {
   "cell_type": "markdown",
   "id": "0f4661af",
   "metadata": {},
   "source": [
    "July"
   ]
  },
  {
   "cell_type": "code",
   "execution_count": 10,
   "id": "b658733f",
   "metadata": {},
   "outputs": [],
   "source": [
    "dfjul16=pd.DataFrame()\n",
    "for k in os.listdir():\n",
    "    f=open(os.path.join(k,\"2016-7.json\"))\n",
    "    f=json.load(f)\n",
    "    f=f['data']\n",
    "    dfjul16=create(dfjul16,f,k,31,744)"
   ]
  },
  {
   "cell_type": "markdown",
   "id": "a2320410",
   "metadata": {},
   "source": [
    "August"
   ]
  },
  {
   "cell_type": "code",
   "execution_count": 11,
   "id": "ffdf9711",
   "metadata": {},
   "outputs": [],
   "source": [
    "dfaug16=pd.DataFrame()\n",
    "for k in os.listdir():\n",
    "    f=open(os.path.join(k,\"2016-8.json\"))\n",
    "    f=json.load(f)\n",
    "    f=f['data']\n",
    "    dfaug16=create(dfaug16,f,k,31,744)"
   ]
  },
  {
   "cell_type": "markdown",
   "id": "5e5870f9",
   "metadata": {},
   "source": [
    "September"
   ]
  },
  {
   "cell_type": "code",
   "execution_count": 12,
   "id": "20c23b44",
   "metadata": {},
   "outputs": [],
   "source": [
    "dfsep16=pd.DataFrame()\n",
    "for k in os.listdir():\n",
    "    f=open(os.path.join(k,\"2016-9.json\"))\n",
    "    f=json.load(f)\n",
    "    f=f['data']\n",
    "    dfsep16=create(dfsep16,f,k,30,720)"
   ]
  },
  {
   "cell_type": "markdown",
   "id": "39b84eaf",
   "metadata": {},
   "source": [
    "October"
   ]
  },
  {
   "cell_type": "code",
   "execution_count": 13,
   "id": "2e361fbf",
   "metadata": {},
   "outputs": [],
   "source": [
    "dfoct16=pd.DataFrame()\n",
    "for k in os.listdir():\n",
    "    f=open(os.path.join(k,\"2016-10.json\"))\n",
    "    f=json.load(f)\n",
    "    f=f['data']\n",
    "    dfoct16=create(dfoct16,f,k,31,744)"
   ]
  },
  {
   "cell_type": "markdown",
   "id": "2be664cb",
   "metadata": {},
   "source": [
    "November"
   ]
  },
  {
   "cell_type": "code",
   "execution_count": 14,
   "id": "ee0e3a33",
   "metadata": {},
   "outputs": [],
   "source": [
    "dfnov16=pd.DataFrame()\n",
    "for k in os.listdir():\n",
    "    f=open(os.path.join(k,\"2016-11.json\"))\n",
    "    f=json.load(f)\n",
    "    f=f['data']\n",
    "    dfnov16=create(dfnov16,f,k,30,720)"
   ]
  },
  {
   "cell_type": "markdown",
   "id": "31b7a858",
   "metadata": {},
   "source": [
    "December"
   ]
  },
  {
   "cell_type": "code",
   "execution_count": 15,
   "id": "b2581817",
   "metadata": {},
   "outputs": [],
   "source": [
    "dfdec16=pd.DataFrame()\n",
    "for k in os.listdir():\n",
    "    f=open(os.path.join(k,\"2016-12.json\"))\n",
    "    f=json.load(f)\n",
    "    f=f['data']\n",
    "    dfdec16=create(dfdec16,f,k,31,744)"
   ]
  },
  {
   "cell_type": "markdown",
   "id": "340838b4",
   "metadata": {},
   "source": [
    "2017"
   ]
  },
  {
   "cell_type": "code",
   "execution_count": 16,
   "id": "38156c00",
   "metadata": {},
   "outputs": [],
   "source": [
    "dfjan17=pd.DataFrame()\n",
    "for k in os.listdir():\n",
    "    f=open(os.path.join(k,\"2017-1.json\"))\n",
    "    f=json.load(f)\n",
    "    f=f['data']\n",
    "    dfjan17=create(dfjan17,f,k,31,744)"
   ]
  },
  {
   "cell_type": "code",
   "execution_count": 17,
   "id": "cfdc3b65",
   "metadata": {},
   "outputs": [],
   "source": [
    "dffeb17=pd.DataFrame()\n",
    "for k in os.listdir():\n",
    "    f=open(os.path.join(k,\"2017-2.json\"))\n",
    "    f=json.load(f)\n",
    "    f=f['data']\n",
    "    dffeb17=create(dffeb17,f,k,28,672)"
   ]
  },
  {
   "cell_type": "code",
   "execution_count": 18,
   "id": "e80220fe",
   "metadata": {},
   "outputs": [],
   "source": [
    "dfmar17=pd.DataFrame()\n",
    "for k in os.listdir():\n",
    "    f=open(os.path.join(k,\"2017-3.json\"))\n",
    "    f=json.load(f)\n",
    "    f=f['data']\n",
    "    dfmar17=create(dfmar17,f,k,31,744)"
   ]
  },
  {
   "cell_type": "code",
   "execution_count": 19,
   "id": "ef0fe61e",
   "metadata": {},
   "outputs": [],
   "source": [
    "dfapr17=pd.DataFrame()\n",
    "for k in os.listdir():\n",
    "    f=open(os.path.join(k,\"2017-4.json\"))\n",
    "    f=json.load(f)\n",
    "    f=f['data']\n",
    "    dfapr17=create(dfapr17,f,k,30,720)"
   ]
  },
  {
   "cell_type": "code",
   "execution_count": 20,
   "id": "df7f6c38",
   "metadata": {},
   "outputs": [],
   "source": [
    "dfmay17=pd.DataFrame()\n",
    "for k in os.listdir():\n",
    "    f=open(os.path.join(k,\"2017-5.json\"))\n",
    "    f=json.load(f)\n",
    "    f=f['data']\n",
    "    dfmay17=create(dfmay17,f,k,31,744)"
   ]
  },
  {
   "cell_type": "code",
   "execution_count": 21,
   "id": "775ec17e",
   "metadata": {},
   "outputs": [],
   "source": [
    "dfjun17=pd.DataFrame()\n",
    "for k in os.listdir():\n",
    "    f=open(os.path.join(k,\"2017-6.json\"))\n",
    "    f=json.load(f)\n",
    "    f=f['data']\n",
    "    dfjun17=create(dfjun17,f,k,30,720)"
   ]
  },
  {
   "cell_type": "code",
   "execution_count": 22,
   "id": "48d081e4",
   "metadata": {},
   "outputs": [],
   "source": [
    "dfjul17=pd.DataFrame()\n",
    "for k in os.listdir():\n",
    "    f=open(os.path.join(k,\"2017-7.json\"))\n",
    "    f=json.load(f)\n",
    "    f=f['data']\n",
    "    dfjul17=create(dfjul17,f,k,31,744)"
   ]
  },
  {
   "cell_type": "code",
   "execution_count": 23,
   "id": "622f0fd5",
   "metadata": {},
   "outputs": [],
   "source": [
    "dfaug17=pd.DataFrame()\n",
    "for k in os.listdir():\n",
    "    f=open(os.path.join(k,\"2017-8.json\"))\n",
    "    f=json.load(f)\n",
    "    f=f['data']\n",
    "    dfaug17=create(dfaug17,f,k,31,744)"
   ]
  },
  {
   "cell_type": "code",
   "execution_count": 24,
   "id": "61e78f4f",
   "metadata": {},
   "outputs": [],
   "source": [
    "dfsep17=pd.DataFrame()\n",
    "for k in os.listdir():\n",
    "    f=open(os.path.join(k,\"2017-9.json\"))\n",
    "    f=json.load(f)\n",
    "    f=f['data']\n",
    "    dfsep17=create(dfsep17,f,k,30,720)"
   ]
  },
  {
   "cell_type": "code",
   "execution_count": 25,
   "id": "73ee1b24",
   "metadata": {},
   "outputs": [],
   "source": [
    "dfoct17=pd.DataFrame()\n",
    "for k in os.listdir():\n",
    "    f=open(os.path.join(k,\"2017-10.json\"))\n",
    "    f=json.load(f)\n",
    "    f=f['data']\n",
    "    dfoct17=create(dfoct17,f,k,31,744)"
   ]
  },
  {
   "cell_type": "code",
   "execution_count": 26,
   "id": "1c272a32",
   "metadata": {},
   "outputs": [],
   "source": [
    "dfnov17=pd.DataFrame()\n",
    "for k in os.listdir():\n",
    "    f=open(os.path.join(k,\"2017-11.json\"))\n",
    "    f=json.load(f)\n",
    "    f=f['data']\n",
    "    dfnov17=create(dfnov17,f,k,30,720)"
   ]
  },
  {
   "cell_type": "code",
   "execution_count": 27,
   "id": "c3dd7763",
   "metadata": {},
   "outputs": [],
   "source": [
    "dfdec17=pd.DataFrame()\n",
    "for k in os.listdir():\n",
    "    f=open(os.path.join(k,\"2017-12.json\"))\n",
    "    f=json.load(f)\n",
    "    f=f['data']\n",
    "    dfdec17=create(dfdec17,f,k,31,744)"
   ]
  },
  {
   "cell_type": "markdown",
   "id": "d5724427",
   "metadata": {},
   "source": [
    "store in a dict"
   ]
  },
  {
   "cell_type": "code",
   "execution_count": 28,
   "id": "7349b5a9",
   "metadata": {},
   "outputs": [],
   "source": [
    "w16={}\n",
    "w16['dfjan16']=dfjan16\n",
    "w16['dffeb16']=dffeb16\n",
    "w16['dfmar16']=dfmar16\n",
    "w16['dfapr16']=dfapr16\n",
    "w16['dfmay16']=dfmay16\n",
    "w16['dfjun16']=dfjun16\n",
    "w16['dfjul16']=dfjul16\n",
    "w16['dfaug16']=dfaug16\n",
    "w16['dfsep16']=dfsep16\n",
    "w16['dfoct16']=dfoct16\n",
    "w16['dfnov16']=dfnov16\n",
    "w16['dfdec16']=dfdec16"
   ]
  },
  {
   "cell_type": "code",
   "execution_count": 29,
   "id": "b9624e03",
   "metadata": {},
   "outputs": [],
   "source": [
    "w17={}\n",
    "w17['dfjan17']=dfjan17\n",
    "w17['dffeb17']=dffeb17\n",
    "w17['dfmar17']=dfmar17\n",
    "w17['dfapr17']=dfapr17\n",
    "w17['dfmay17']=dfmay17\n",
    "w17['dfjun17']=dfjun17\n",
    "w17['dfjul17']=dfjul17\n",
    "w17['dfaug17']=dfaug17\n",
    "w17['dfsep17']=dfsep17\n",
    "w17['dfoct17']=dfoct17\n",
    "w17['dfnov17']=dfnov17\n",
    "w17['dfdec17']=dfdec17"
   ]
  },
  {
   "cell_type": "markdown",
   "id": "e5d1e427",
   "metadata": {},
   "source": [
    "# FlightDataset"
   ]
  },
  {
   "cell_type": "code",
   "execution_count": 30,
   "id": "7087aafb",
   "metadata": {},
   "outputs": [],
   "source": [
    "os.chdir(\"D:\\\\Bright_Academy\\\\ML project\\\\flight\\\\2016\\\\\")"
   ]
  },
  {
   "cell_type": "code",
   "execution_count": 31,
   "id": "08e7e522",
   "metadata": {},
   "outputs": [],
   "source": [
    "dfs16=['dfjan16','dffeb16','dfmar16','dfapr16','dfmay16','dfjun16','dfjul16','dfaug16','dfsep16','dfoct16','dfnov16','dfdec16']\n",
    "csvs16=[f'On_Time_On_Time_Performance_2016_{i}.csv' for i in range(1,13)]"
   ]
  },
  {
   "cell_type": "code",
   "execution_count": 32,
   "id": "91fe2246",
   "metadata": {},
   "outputs": [],
   "source": [
    "f16=dict()#flight details for the year 2016"
   ]
  },
  {
   "cell_type": "code",
   "execution_count": 33,
   "id": "d4a72307",
   "metadata": {},
   "outputs": [],
   "source": [
    "for i in range(12):\n",
    "    f16[dfs16[i]]=pd.read_csv(csvs16[i], low_memory=False)"
   ]
  },
  {
   "cell_type": "code",
   "execution_count": 34,
   "id": "848ce69f",
   "metadata": {},
   "outputs": [],
   "source": [
    "def filter(df):\n",
    "    cols=['FlightDate','Quarter','Year','Month','DayofMonth','DepTime','DepDel15','CRSDepTime','DepDelayMinutes','Origin','Dest','OriginAirportID','DestAirportID','ArrTime','CRSArrTime','ArrDel15']\n",
    "    airports=['ATL','CLT','DEN', 'DFW', 'EWR', 'IAH', 'JFK', 'LAS', 'LAX', 'MCO', 'MIA', 'ORD', 'PHX', 'SEA', 'SFO']\n",
    "    df=df[cols]\n",
    "    df=df[df['Dest'].isin(airports) & df['Origin'].isin(airports)]\n",
    "    return df"
   ]
  },
  {
   "cell_type": "code",
   "execution_count": 35,
   "id": "32279f75",
   "metadata": {},
   "outputs": [],
   "source": [
    "for i in f16.keys():\n",
    "    f16[i]=filter(f16[i])"
   ]
  },
  {
   "cell_type": "raw",
   "id": "b9cc8489",
   "metadata": {},
   "source": [
    "f16['dfjan16']"
   ]
  },
  {
   "cell_type": "markdown",
   "id": "d114524b",
   "metadata": {},
   "source": [
    "repeating the same for 2017"
   ]
  },
  {
   "cell_type": "code",
   "execution_count": 36,
   "id": "563d6a28",
   "metadata": {},
   "outputs": [],
   "source": [
    "os.chdir(\"D:\\\\Bright_Academy\\\\ML project\\\\flight\\\\2017\\\\\")"
   ]
  },
  {
   "cell_type": "code",
   "execution_count": 37,
   "id": "201e7830",
   "metadata": {},
   "outputs": [],
   "source": [
    "dfs17=['dfjan17','dffeb17','dfmar17','dfapr17','dfmay17','dfjun17','dfjul17','dfaug17','dfsep17','dfoct17','dfnov17','dfdec17']\n",
    "csvs17=[f'On_Time_On_Time_Performance_2017_{i}.csv' for i in range(1,13)]"
   ]
  },
  {
   "cell_type": "code",
   "execution_count": 38,
   "id": "da1f934b",
   "metadata": {},
   "outputs": [],
   "source": [
    "f17=dict()\n",
    "for i in range(12):\n",
    "    f17[dfs17[i]]=pd.read_csv(csvs17[i], low_memory=False)"
   ]
  },
  {
   "cell_type": "code",
   "execution_count": 39,
   "id": "2cf3bdfb",
   "metadata": {},
   "outputs": [],
   "source": [
    "for i in f17.keys():\n",
    "    f17[i]=filter(f17[i])"
   ]
  },
  {
   "cell_type": "raw",
   "id": "d3514106",
   "metadata": {},
   "source": [
    "f17['dfmar17']"
   ]
  },
  {
   "cell_type": "raw",
   "id": "553861f6",
   "metadata": {},
   "source": [
    "w16['dffeb16']"
   ]
  },
  {
   "cell_type": "markdown",
   "id": "78a2be9a",
   "metadata": {},
   "source": [
    "reset index"
   ]
  },
  {
   "cell_type": "code",
   "execution_count": 40,
   "id": "5859cf6e",
   "metadata": {},
   "outputs": [],
   "source": [
    "for i in w16.keys():\n",
    "    w16[i]=w16[i].reset_index(drop=True)"
   ]
  },
  {
   "cell_type": "code",
   "execution_count": 41,
   "id": "c318bac1",
   "metadata": {},
   "outputs": [],
   "source": [
    "for i in w17.keys():\n",
    "    w17[i]=w17[i].reset_index(drop=True)"
   ]
  },
  {
   "cell_type": "code",
   "execution_count": 42,
   "id": "593c57f9",
   "metadata": {},
   "outputs": [],
   "source": [
    "for i in f16.keys():\n",
    "    f16[i]=f16[i].reset_index(drop=True)\n",
    "for i in f17.keys():\n",
    "    f17[i]=f17[i].reset_index(drop=True)"
   ]
  },
  {
   "cell_type": "markdown",
   "id": "c1f404dd",
   "metadata": {},
   "source": [
    "change datatype"
   ]
  },
  {
   "cell_type": "code",
   "execution_count": 43,
   "id": "ac4abc2f",
   "metadata": {},
   "outputs": [],
   "source": [
    "cols=['windspeedKmph','winddirDegree','weatherCode','precipMM','visibility','pressure','cloudcover','DewPointF','WindGustKmph','tempF','WindChillF','humidity','time']\n",
    "for i in w16.keys():\n",
    "    w16[i][cols]=w16[i][cols].apply(pd.to_numeric)\n",
    "for j in w17.keys():\n",
    "    w17[j][cols]=w17[j][cols].apply(pd.to_numeric)"
   ]
  },
  {
   "cell_type": "code",
   "execution_count": 44,
   "id": "4db47c54",
   "metadata": {},
   "outputs": [],
   "source": [
    "#tbd for w17\n",
    "#theva illa\n",
    "for i in w16.keys():\n",
    "    w16[i].rename(columns = {'date':'FlightDate','airport':'Dest'}, inplace = True) \n",
    "for i in w17.keys():\n",
    "    w17[i].rename(columns = {'date':'FlightDate','airport':'Dest'}, inplace = True)"
   ]
  },
  {
   "cell_type": "code",
   "execution_count": 45,
   "id": "07d01b10",
   "metadata": {},
   "outputs": [],
   "source": [
    "def bounds(n):\n",
    "    lower=(n//100)*100\n",
    "    upper=(lower+100)%2400\n",
    "    return lower,upper"
   ]
  },
  {
   "cell_type": "markdown",
   "id": "d5012aaf",
   "metadata": {},
   "source": [
    "# function for all months in 2k16"
   ]
  },
  {
   "cell_type": "code",
   "execution_count": 46,
   "id": "c32727c2",
   "metadata": {},
   "outputs": [],
   "source": [
    "year2016={}\n",
    "dfs16=['dfjan16','dffeb16','dfmar16','dfapr16','dfmay16','dfjun16','dfjul16','dfaug16','dfsep16','dfoct16','dfnov16','dfdec16']\n",
    "for month in dfs16:\n",
    "    gw=w16[month].groupby(['FlightDate','Dest'])\n",
    "    gf=f16[month].groupby(['FlightDate','Dest'])\n",
    "    final=[]\n",
    "    \n",
    "    for i in gw.groups.keys():\n",
    "        grpf=gf.get_group((i))#get the df belonging to that group\n",
    "        grpw=gw.get_group((i))\n",
    "        grpf=grpf.reset_index(drop=True)\n",
    "        grpw=grpw.reset_index(drop=True)\n",
    "        timemerge=[]\n",
    "        \n",
    "        for i in range(grpf.shape[0]):\n",
    "            time=grpf['CRSArrTime'][i]\n",
    "            lb,ub=bounds(time)\n",
    "            if ub==0:\n",
    "                ub=lb#for simplicity\n",
    "            l=[]\n",
    "            if (time%100)<=30:\n",
    "                l=grpw[grpw['time']==lb]\n",
    "            else:\n",
    "                l=grpw[grpw['time']==ub]\n",
    "            timemerge.append(l)\n",
    "            \n",
    "        for i in range(1,len(timemerge)):\n",
    "            timemerge[0]=pd.concat([timemerge[0],timemerge[i]])\n",
    "        timemerge[0].reset_index(inplace=True,drop=True)\n",
    "        timemerge[0].drop(['FlightDate','Dest'],axis=1,inplace=True)\n",
    "        res=pd.concat([timemerge[0],grpf],axis=1)\n",
    "        final.append(res)\n",
    "        \n",
    "    for i in range(1,len(final)):\n",
    "        final[0]=pd.concat([final[0],final[i]])\n",
    "    year2016[month]=final[0]"
   ]
  },
  {
   "cell_type": "markdown",
   "id": "abd01043",
   "metadata": {},
   "source": [
    "# for all months in 2k17"
   ]
  },
  {
   "cell_type": "code",
   "execution_count": 47,
   "id": "93de57f2",
   "metadata": {},
   "outputs": [],
   "source": [
    "year2017={}\n",
    "dfs17=['dfjan17','dffeb17','dfmar17','dfapr17','dfmay17','dfjun17','dfjul17','dfaug17','dfsep17','dfoct17','dfnov17','dfdec17']\n",
    "\n",
    "for month in dfs17:\n",
    "    gw=w17[month].groupby(['FlightDate','Dest'])\n",
    "    gf=f17[month].groupby(['FlightDate','Dest'])\n",
    "    final=[]\n",
    "    \n",
    "    for i in gw.groups.keys():\n",
    "        grpf=gf.get_group((i))#get the df belonging to that group\n",
    "        grpw=gw.get_group((i))\n",
    "        grpf=grpf.reset_index(drop=True)\n",
    "        grpw=grpw.reset_index(drop=True)\n",
    "        timemerge=[]\n",
    "        \n",
    "        for i in range(grpf.shape[0]):\n",
    "            time=grpf['CRSArrTime'][i]\n",
    "            lb,ub=bounds(time)\n",
    "            if ub==0:\n",
    "                ub=lb#for simplicity\n",
    "            l=[]\n",
    "            if (time%100)<=30:\n",
    "                l=grpw[grpw['time']==lb]\n",
    "            else:\n",
    "                l=grpw[grpw['time']==ub]\n",
    "            timemerge.append(l)\n",
    "            \n",
    "        for i in range(1,len(timemerge)):\n",
    "            timemerge[0]=pd.concat([timemerge[0],timemerge[i]])\n",
    "        timemerge[0].reset_index(inplace=True,drop=True)\n",
    "        timemerge[0].drop(['FlightDate','Dest'],axis=1,inplace=True)\n",
    "        res=pd.concat([timemerge[0],grpf],axis=1)\n",
    "        final.append(res)\n",
    "        \n",
    "    for i in range(1,len(final)):\n",
    "        final[0]=pd.concat([final[0],final[i]])\n",
    "    year2017[month]=final[0]"
   ]
  },
  {
   "cell_type": "markdown",
   "id": "63a85e50",
   "metadata": {},
   "source": [
    "# Code"
   ]
  },
  {
   "cell_type": "code",
   "execution_count": 48,
   "id": "bf7d8a05",
   "metadata": {},
   "outputs": [],
   "source": [
    "'''\n",
    "concatenate all 2k16 dfs first\n",
    "concatenate all 2k17 dfs next\n",
    "concatenate 2k16 and 2k17 together into one df\n",
    "perform classification after necessary preprocessing\n",
    "'''\n",
    "df2016=pd.DataFrame()\n",
    "df2017=pd.DataFrame()\n",
    "for i in year2016:\n",
    "    df2016=pd.concat([df2016,year2016[i]])\n",
    "for j in year2017: \n",
    "    df2017=pd.concat([df2017,year2017[j]])"
   ]
  },
  {
   "cell_type": "raw",
   "id": "2aad2236",
   "metadata": {},
   "source": [
    "df2017.info()"
   ]
  },
  {
   "cell_type": "raw",
   "id": "f4224cae",
   "metadata": {},
   "source": [
    "df2016.info()"
   ]
  },
  {
   "cell_type": "code",
   "execution_count": 120,
   "id": "9aab485f",
   "metadata": {},
   "outputs": [],
   "source": [
    "dffinal=pd.concat([df2016,df2017])"
   ]
  },
  {
   "cell_type": "code",
   "execution_count": 121,
   "id": "d1f169c4",
   "metadata": {},
   "outputs": [],
   "source": [
    "dffinal.reset_index(inplace=True)"
   ]
  },
  {
   "cell_type": "code",
   "execution_count": 122,
   "id": "00d5e647",
   "metadata": {},
   "outputs": [],
   "source": [
    "dffinal.drop('index',axis=1,inplace=True)"
   ]
  },
  {
   "cell_type": "code",
   "execution_count": 123,
   "id": "d6a02960",
   "metadata": {},
   "outputs": [
    {
     "name": "stdout",
     "output_type": "stream",
     "text": [
      "<class 'pandas.core.frame.DataFrame'>\n",
      "RangeIndex: 1877296 entries, 0 to 1877295\n",
      "Data columns (total 29 columns):\n",
      " #   Column           Dtype  \n",
      "---  ------           -----  \n",
      " 0   windspeedKmph    float64\n",
      " 1   winddirDegree    float64\n",
      " 2   weatherCode      float64\n",
      " 3   precipMM         float64\n",
      " 4   visibility       float64\n",
      " 5   pressure         float64\n",
      " 6   cloudcover       float64\n",
      " 7   DewPointF        float64\n",
      " 8   WindGustKmph     float64\n",
      " 9   tempF            float64\n",
      " 10  WindChillF       float64\n",
      " 11  humidity         float64\n",
      " 12  time             float64\n",
      " 13  FlightDate       object \n",
      " 14  Quarter          int64  \n",
      " 15  Year             int64  \n",
      " 16  Month            int64  \n",
      " 17  DayofMonth       int64  \n",
      " 18  DepTime          float64\n",
      " 19  DepDel15         float64\n",
      " 20  CRSDepTime       int64  \n",
      " 21  DepDelayMinutes  float64\n",
      " 22  Origin           object \n",
      " 23  Dest             object \n",
      " 24  OriginAirportID  int64  \n",
      " 25  DestAirportID    int64  \n",
      " 26  ArrTime          float64\n",
      " 27  CRSArrTime       int64  \n",
      " 28  ArrDel15         float64\n",
      "dtypes: float64(18), int64(8), object(3)\n",
      "memory usage: 415.4+ MB\n"
     ]
    }
   ],
   "source": [
    "dffinal.info()"
   ]
  },
  {
   "cell_type": "code",
   "execution_count": 124,
   "id": "4dd6bbc9",
   "metadata": {},
   "outputs": [],
   "source": [
    "dffinal.dropna(inplace=True)"
   ]
  },
  {
   "cell_type": "code",
   "execution_count": 125,
   "id": "42a532f2",
   "metadata": {},
   "outputs": [],
   "source": [
    "dffinal.to_csv(\"cleaned_data.csv\")"
   ]
  },
  {
   "cell_type": "markdown",
   "id": "8a9ccef8",
   "metadata": {},
   "source": [
    "# Classification"
   ]
  },
  {
   "cell_type": "markdown",
   "id": "12409ba5",
   "metadata": {},
   "source": [
    "preprocessing"
   ]
  },
  {
   "cell_type": "code",
   "execution_count": 115,
   "id": "99836532",
   "metadata": {},
   "outputs": [],
   "source": [
    "#drop-flight date, origin airport id, dest airport id,\n",
    "#one hot encoding for quarter,year,month,day of month,origin,dest\n",
    "dffinal.drop(['FlightDate','OriginAirportID','DestAirportID'],axis=1,inplace=True)"
   ]
  },
  {
   "cell_type": "code",
   "execution_count": 116,
   "id": "fa929c3c",
   "metadata": {},
   "outputs": [],
   "source": [
    "df=pd.get_dummies(dffinal,columns=['Quarter','Year','Month','DayofMonth','Origin','Dest'],drop_first=True)"
   ]
  },
  {
   "cell_type": "raw",
   "id": "3370ece0",
   "metadata": {},
   "source": [
    "df.columns"
   ]
  },
  {
   "cell_type": "code",
   "execution_count": 117,
   "id": "1613fb79",
   "metadata": {},
   "outputs": [],
   "source": [
    "cols=['windspeedKmph', 'winddirDegree', 'weatherCode', 'precipMM',\n",
    "       'visibility', 'pressure', 'cloudcover', 'DewPointF', 'WindGustKmph',\n",
    "       'tempF', 'WindChillF', 'humidity', 'time', 'DepTime', 'DepDel15',\n",
    "       'CRSDepTime', 'DepDelayMinutes', 'ArrTime', 'CRSArrTime',\n",
    "       'Quarter_2', 'Quarter_3', 'Quarter_4', 'Year_2017', 'Month_2',\n",
    "       'Month_3', 'Month_4', 'Month_5', 'Month_6', 'Month_7', 'Month_8',\n",
    "       'Month_9', 'Month_10', 'Month_11', 'Month_12', 'DayofMonth_2',\n",
    "       'DayofMonth_3', 'DayofMonth_4', 'DayofMonth_5', 'DayofMonth_6',\n",
    "       'DayofMonth_7', 'DayofMonth_8', 'DayofMonth_9', 'DayofMonth_10',\n",
    "       'DayofMonth_11', 'DayofMonth_12', 'DayofMonth_13', 'DayofMonth_14',\n",
    "       'DayofMonth_15', 'DayofMonth_16', 'DayofMonth_17', 'DayofMonth_18',\n",
    "       'DayofMonth_19', 'DayofMonth_20', 'DayofMonth_21', 'DayofMonth_22',\n",
    "       'DayofMonth_23', 'DayofMonth_24', 'DayofMonth_25', 'DayofMonth_26',\n",
    "       'DayofMonth_27', 'DayofMonth_28', 'DayofMonth_29', 'DayofMonth_30',\n",
    "       'DayofMonth_31', 'Origin_CLT', 'Origin_DEN', 'Origin_DFW', 'Origin_EWR',\n",
    "       'Origin_IAH', 'Origin_JFK', 'Origin_LAS', 'Origin_LAX', 'Origin_MCO',\n",
    "       'Origin_MIA', 'Origin_ORD', 'Origin_PHX', 'Origin_SEA', 'Origin_SFO',\n",
    "       'Dest_CLT', 'Dest_DEN', 'Dest_DFW', 'Dest_EWR', 'Dest_IAH', 'Dest_JFK',\n",
    "       'Dest_LAS', 'Dest_LAX', 'Dest_MCO', 'Dest_MIA', 'Dest_ORD', 'Dest_PHX',\n",
    "       'Dest_SEA', 'Dest_SFO','ArrDel15']\n",
    "df=df[cols]"
   ]
  },
  {
   "cell_type": "code",
   "execution_count": 118,
   "id": "1e34ddea",
   "metadata": {},
   "outputs": [],
   "source": [
    "df=df.dropna()"
   ]
  },
  {
   "cell_type": "code",
   "execution_count": 119,
   "id": "a8b6799e",
   "metadata": {},
   "outputs": [],
   "source": [
    "df.to_csv(\"OHEdata.csv\")"
   ]
  },
  {
   "cell_type": "code",
   "execution_count": 98,
   "id": "4ec16338",
   "metadata": {},
   "outputs": [],
   "source": [
    "df['ArrTime']=df['ArrTime'].astype('int64')"
   ]
  },
  {
   "cell_type": "markdown",
   "id": "7ebf306c",
   "metadata": {},
   "source": [
    "Analysing correlation between columns"
   ]
  },
  {
   "cell_type": "code",
   "execution_count": 59,
   "id": "52f9733d",
   "metadata": {},
   "outputs": [],
   "source": [
    "corr_matrix=df.corr()"
   ]
  },
  {
   "cell_type": "code",
   "execution_count": 60,
   "id": "5958b225",
   "metadata": {},
   "outputs": [],
   "source": [
    "import matplotlib.pyplot as plt\n",
    "import seaborn as sb"
   ]
  },
  {
   "cell_type": "code",
   "execution_count": 61,
   "id": "ce313047",
   "metadata": {},
   "outputs": [
    {
     "data": {
      "image/png": "[encoded data removed]",
      "text/plain": [
       "<Figure size 640x480 with 2 Axes>"
      ]
     },
     "metadata": {},
     "output_type": "display_data"
    }
   ],
   "source": [
    "cmat=sb.heatmap(corr_matrix, cmap=\"YlGnBu\") \n"
   ]
  },
  {
   "cell_type": "code",
   "execution_count": 62,
   "id": "13438304",
   "metadata": {},
   "outputs": [],
   "source": [
    "corrvals={}\n",
    "for i in corr_matrix.columns[:-1]:\n",
    "    corrvals[i]=corr_matrix[i].values"
   ]
  },
  {
   "cell_type": "code",
   "execution_count": 63,
   "id": "77b5d515",
   "metadata": {},
   "outputs": [],
   "source": [
    "lst=[]\n",
    "for i in corrvals.keys():\n",
    "    res=[]\n",
    "    for j in range(len(corrvals[i])):\n",
    "        if (abs(corrvals[i][j])>0.6):\n",
    "            res.append(j)\n",
    "    lst.append((i,res))"
   ]
  },
  {
   "cell_type": "code",
   "execution_count": 64,
   "id": "8acc4c26",
   "metadata": {},
   "outputs": [
    {
     "data": {
      "text/plain": [
       "[('windspeedKmph', [0, 8]),\n",
       " ('winddirDegree', [1]),\n",
       " ('weatherCode', [2]),\n",
       " ('precipMM', [3]),\n",
       " ('visibility', [4]),\n",
       " ('pressure', [5]),\n",
       " ('cloudcover', [6]),\n",
       " ('DewPointF', [7, 9, 10]),\n",
       " ('WindGustKmph', [0, 8]),\n",
       " ('tempF', [7, 9, 10]),\n",
       " ('WindChillF', [7, 9, 10]),\n",
       " ('humidity', [11]),\n",
       " ('time', [12, 17, 18]),\n",
       " ('DepTime', [13, 15]),\n",
       " ('DepDel15', [14, 16, 92]),\n",
       " ('CRSDepTime', [13, 15]),\n",
       " ('DepDelayMinutes', [14, 16]),\n",
       " ('ArrTime', [12, 17, 18]),\n",
       " ('CRSArrTime', [12, 17, 18]),\n",
       " ('Quarter_2', [19]),\n",
       " ('Quarter_3', [20]),\n",
       " ('Quarter_4', [21]),\n",
       " ('Year_2017', [22]),\n",
       " ('Month_2', [23]),\n",
       " ('Month_3', [24]),\n",
       " ('Month_4', [25]),\n",
       " ('Month_5', [26]),\n",
       " ('Month_6', [27]),\n",
       " ('Month_7', [28]),\n",
       " ('Month_8', [29]),\n",
       " ('Month_9', [30]),\n",
       " ('Month_10', [31]),\n",
       " ('Month_11', [32]),\n",
       " ('Month_12', [33]),\n",
       " ('DayofMonth_2', [34]),\n",
       " ('DayofMonth_3', [35]),\n",
       " ('DayofMonth_4', [36]),\n",
       " ('DayofMonth_5', [37]),\n",
       " ('DayofMonth_6', [38]),\n",
       " ('DayofMonth_7', [39]),\n",
       " ('DayofMonth_8', [40]),\n",
       " ('DayofMonth_9', [41]),\n",
       " ('DayofMonth_10', [42]),\n",
       " ('DayofMonth_11', [43]),\n",
       " ('DayofMonth_12', [44]),\n",
       " ('DayofMonth_13', [45]),\n",
       " ('DayofMonth_14', [46]),\n",
       " ('DayofMonth_15', [47]),\n",
       " ('DayofMonth_16', [48]),\n",
       " ('DayofMonth_17', [49]),\n",
       " ('DayofMonth_18', [50]),\n",
       " ('DayofMonth_19', [51]),\n",
       " ('DayofMonth_20', [52]),\n",
       " ('DayofMonth_21', [53]),\n",
       " ('DayofMonth_22', [54]),\n",
       " ('DayofMonth_23', [55]),\n",
       " ('DayofMonth_24', [56]),\n",
       " ('DayofMonth_25', [57]),\n",
       " ('DayofMonth_26', [58]),\n",
       " ('DayofMonth_27', [59]),\n",
       " ('DayofMonth_28', [60]),\n",
       " ('DayofMonth_29', [61]),\n",
       " ('DayofMonth_30', [62]),\n",
       " ('DayofMonth_31', [63]),\n",
       " ('Origin_CLT', [64]),\n",
       " ('Origin_DEN', [65]),\n",
       " ('Origin_DFW', [66]),\n",
       " ('Origin_EWR', [67]),\n",
       " ('Origin_IAH', [68]),\n",
       " ('Origin_JFK', [69]),\n",
       " ('Origin_LAS', [70]),\n",
       " ('Origin_LAX', [71]),\n",
       " ('Origin_MCO', [72]),\n",
       " ('Origin_MIA', [73]),\n",
       " ('Origin_ORD', [74]),\n",
       " ('Origin_PHX', [75]),\n",
       " ('Origin_SEA', [76]),\n",
       " ('Origin_SFO', [77]),\n",
       " ('Dest_CLT', [78]),\n",
       " ('Dest_DEN', [79]),\n",
       " ('Dest_DFW', [80]),\n",
       " ('Dest_EWR', [81]),\n",
       " ('Dest_IAH', [82]),\n",
       " ('Dest_JFK', [83]),\n",
       " ('Dest_LAS', [84]),\n",
       " ('Dest_LAX', [85]),\n",
       " ('Dest_MCO', [86]),\n",
       " ('Dest_MIA', [87]),\n",
       " ('Dest_ORD', [88]),\n",
       " ('Dest_PHX', [89]),\n",
       " ('Dest_SEA', [90]),\n",
       " ('Dest_SFO', [91])]"
      ]
     },
     "execution_count": 64,
     "metadata": {},
     "output_type": "execute_result"
    }
   ],
   "source": [
    "lst"
   ]
  },
  {
   "cell_type": "markdown",
   "id": "b765874c",
   "metadata": {},
   "source": [
    "CORRELATION AMONG FEATURES:\n",
    "\n",
    "windspeed and windgust(0,8)\n",
    "\n",
    "dewpoint,tempf,windchillf(7,9,10)\n",
    "\n",
    "time,arrtime,crsarrtime(12,17,18)\n",
    "\n",
    "deptime,crsdeptime(13,15)\n",
    "\n",
    "depdel15,depdelayminutes(14,16)"
   ]
  },
  {
   "cell_type": "markdown",
   "id": "02710ea7",
   "metadata": {},
   "source": [
    "# SMOTE(runs forever-not considered)"
   ]
  },
  {
   "cell_type": "raw",
   "id": "daaa7355",
   "metadata": {},
   "source": [
    "from imblearn.over_sampling import SMOTE\n",
    "smote = SMOTE()\n",
    "x_smote, y_smote = smote.fit_resample(xtrain,ytrain)\n",
    "print('Original dataset shape', Counter(y))\n",
    "print('Resample dataset shape', Counter(y_smote))"
   ]
  },
  {
   "cell_type": "markdown",
   "id": "c759dde1",
   "metadata": {},
   "source": [
    "# Combo of under and oversampling(doesnt work-large dataset)"
   ]
  },
  {
   "cell_type": "raw",
   "id": "f1773538",
   "metadata": {},
   "source": [
    "from imblearn.pipeline import Pipeline\n",
    "model=LogisticRegression()\n",
    "over=RandomOverSampler(sampling_strategy=0.5)\n",
    "under=RandomUnderSampler(sampling_strategy=0.1)\n",
    "pipeline = Pipeline(steps=[('o', over), ('u', under), ('m', model)])"
   ]
  },
  {
   "cell_type": "raw",
   "id": "0c3903b8",
   "metadata": {},
   "source": [
    "#segmentation fault due to large data\n",
    "from sklearn.model_selection import cross_val_score,RepeatedStratifiedKFold\n",
    "cv = RepeatedStratifiedKFold(n_splits=100, n_repeats=3, random_state=1)\n",
    "scores = cross_val_score(pipeline, xtrainscaled, ytrain, scoring='roc_auc', cv=cv, n_jobs=-1)\n",
    "print('Mean ROC AUC: %.3f' % mean(scores))"
   ]
  }
 ],
 "metadata": {
  "kernelspec": {
   "display_name": "Python 3 (ipykernel)",
   "language": "python",
   "name": "python3"
  },
  "language_info": {
   "codemirror_mode": {
    "name": "ipython",
    "version": 3
   },
   "file_extension": ".py",
   "mimetype": "text/x-python",
   "name": "python",
   "nbconvert_exporter": "python",
   "pygments_lexer": "ipython3",
   "version": "3.9.13"
  }
 },
 "nbformat": 4,
 "nbformat_minor": 5
}
